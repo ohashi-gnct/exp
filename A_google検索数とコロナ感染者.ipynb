{
  "nbformat": 4,
  "nbformat_minor": 0,
  "metadata": {
    "colab": {
      "name": "3年生データサイエンス演習 A google検索数とコロナ感染者",
      "provenance": [],
      "collapsed_sections": [],
      "mount_file_id": "1SQQJZ5JpVb9eg1ySBtL5ZgpLxo6GGtI3",
      "authorship_tag": "ABX9TyMPD9IfK6kPVJwu9lUKWlGH",
      "include_colab_link": true
    },
    "kernelspec": {
      "name": "python3",
      "display_name": "Python 3"
    },
    "language_info": {
      "name": "python"
    }
  },
  "cells": [
    {
      "cell_type": "markdown",
      "metadata": {
        "id": "view-in-github",
        "colab_type": "text"
      },
      "source": [
        "<a href=\"https://colab.research.google.com/github/ohashi-gnct/exp/blob/2022/A_google%E6%A4%9C%E7%B4%A2%E6%95%B0%E3%81%A8%E3%82%B3%E3%83%AD%E3%83%8A%E6%84%9F%E6%9F%93%E8%80%85.ipynb\" target=\"_parent\"><img src=\"https://colab.research.google.com/assets/colab-badge.svg\" alt=\"Open In Colab\"/></a>"
      ]
    },
    {
      "cell_type": "code",
      "source": [
        "import os\n",
        "import io\n",
        "import json\n",
        "import datetime as dt\n",
        "\n",
        "import numpy as np\n",
        "import pandas as pd\n",
        "import requests\n",
        "import matplotlib.pyplot as plt\n",
        "import seaborn as sns"
      ],
      "metadata": {
        "id": "cgGzPe0YF32o"
      },
      "execution_count": null,
      "outputs": []
    },
    {
      "cell_type": "markdown",
      "source": [
        "Colabに最初から入っていないライブラリをUNIXコマンドの`pip`で導入する。"
      ],
      "metadata": {
        "id": "4u-VZfD9l0KS"
      }
    },
    {
      "cell_type": "markdown",
      "source": [
        "`japanize-matplotlib`は日本語でmatplotlibが使えるようにするライブラリである。"
      ],
      "metadata": {
        "id": "O-OxF6o0mO8U"
      }
    },
    {
      "cell_type": "code",
      "source": [
        "!pip install japanize-matplotlib"
      ],
      "metadata": {
        "id": "22ByHMn_mIut"
      },
      "execution_count": null,
      "outputs": []
    },
    {
      "cell_type": "code",
      "source": [
        "# matplotlibの日本語化\n",
        "import japanize_matplotlib\n",
        "%matplotlib inline\n",
        "sns.set(font=\"IPAexGothic\")"
      ],
      "metadata": {
        "id": "1XqVeFTSmK4m"
      },
      "execution_count": null,
      "outputs": []
    },
    {
      "cell_type": "markdown",
      "source": [
        "Googleドライブを接続し、CSVファイルを自分のドライブに保存する。\n",
        "\n",
        "認証を求める画面が出る場合がある。\n",
        "\n",
        "自身でJupyter notebook環境を作っている場合、ディレクトリは適当に読み替えること。"
      ],
      "metadata": {
        "id": "-_ZoBYLOmSfB"
      }
    },
    {
      "cell_type": "code",
      "source": [
        "# Googleドライブの接続\n",
        "from google.colab import drive\n",
        "drive.mount('/content/drive', force_remount=True)\n",
        "drive_path = '/content/drive/MyDrive'"
      ],
      "metadata": {
        "colab": {
          "base_uri": "https://localhost:8080/"
        },
        "id": "Sie2j1eOgTsO",
        "outputId": "a5b3a5d0-6941-47c1-d459-38da04b7c3c1"
      },
      "execution_count": null,
      "outputs": [
        {
          "output_type": "stream",
          "name": "stdout",
          "text": [
            "Mounted at /content/drive\n"
          ]
        }
      ]
    },
    {
      "cell_type": "markdown",
      "source": [
        "プロットの見栄えがするように初期設定する。"
      ],
      "metadata": {
        "id": "NqfNthGEmxtH"
      }
    },
    {
      "cell_type": "code",
      "source": [
        "# matplotlibの初期設定\n",
        "plt_config = {\n",
        "    \"figure.dpi\": 150,\n",
        "    \"font.size\": 14,\n",
        "    \"axes.xmargin\": 0,\n",
        "    \"axes.ymargin\": 0,\n",
        "    \"xtick.direction\": \"in\",\n",
        "    \"ytick.direction\": \"in\",\n",
        "    \"mathtext.cal\": \"serif\",\n",
        "    \"mathtext.rm\": \"serif\",\n",
        "    \"mathtext.it\": \"serif:italic\",\n",
        "    \"mathtext.bf\": \"serif.bold\",\n",
        "    \"mathtext.fontset\": \"cm\",\n",
        "    \"legend.framealpha\": 1.0,\n",
        "    \"legend.edgecolor\": \"black\",\n",
        "    \"legend.fancybox\": False\n",
        "}\n",
        "plt.rcParams.update(plt_config)"
      ],
      "metadata": {
        "id": "BL44vqXgGH2A"
      },
      "execution_count": null,
      "outputs": []
    },
    {
      "cell_type": "markdown",
      "source": [
        "# Google検索"
      ],
      "metadata": {
        "id": "8LAKD9_iKIE0"
      }
    },
    {
      "cell_type": "markdown",
      "source": [
        "特定の検索ワードについて、その検索数の推移を取得できる。\n",
        "\n",
        "値は検索回数ではなく、検索回数の最大が100になるようスケールされた数である。\n",
        "\n",
        "https://smart-hint.com/python/pytrends/"
      ],
      "metadata": {
        "id": "sezSahzjKMxe"
      }
    },
    {
      "cell_type": "code",
      "execution_count": null,
      "metadata": {
        "id": "fhLe0on8FuyD"
      },
      "outputs": [],
      "source": [
        "!pip install pytrends"
      ]
    },
    {
      "cell_type": "code",
      "source": [
        "from pytrends.request import TrendReq\n",
        "pytrends = TrendReq(hl='ja-JP', tz=-540)"
      ],
      "metadata": {
        "id": "g9CW8RBjFuyC"
      },
      "execution_count": null,
      "outputs": []
    },
    {
      "cell_type": "code",
      "source": [
        "kw_list = ['抗原検査'] # キーワードのリスト（5個まで）\n",
        "# 開始、終了日を記述\n",
        "pytrends.build_payload(kw_list=kw_list, \n",
        "                       timeframe='2021-07-29 2022-04-24',\n",
        "                       geo='JP')\n",
        "df_trends = pytrends.interest_over_time()\n",
        "df_trends = df_trends.drop('isPartial',axis=1)\n",
        "df_trends"
      ],
      "metadata": {
        "id": "kRc1UvUMGU90"
      },
      "execution_count": null,
      "outputs": []
    },
    {
      "cell_type": "code",
      "source": [
        "df_trends.plot()"
      ],
      "metadata": {
        "id": "-Hmu-PqOGvsQ"
      },
      "execution_count": null,
      "outputs": []
    },
    {
      "cell_type": "markdown",
      "source": [
        "データはCSVファイルとして保存する。"
      ],
      "metadata": {
        "id": "PzkxI7awnqDx"
      }
    },
    {
      "cell_type": "code",
      "source": [
        "df_trends.to_csv(os.path.join(drive_path, \"trends.csv\"))"
      ],
      "metadata": {
        "id": "Dwp96Y5LGlzs"
      },
      "execution_count": null,
      "outputs": []
    },
    {
      "cell_type": "code",
      "source": [
        "# 保存したCSVファイルを読み込みたい場合、以下のように記述する。\n",
        "# df_trends = pd.read_csv(os.path.join(drive_path, \"trends.csv\"))\n",
        "# df_trends[\"date\"] = pd.to_datetime(df_trends[\"date\"])\n",
        "# df_trends = df_trends.set_index(\"date\")"
      ],
      "metadata": {
        "id": "sJRXvjC9oVzP"
      },
      "execution_count": null,
      "outputs": []
    },
    {
      "cell_type": "markdown",
      "source": [
        "# コロナ感染者"
      ],
      "metadata": {
        "id": "5vDJdGz-Ngj_"
      }
    },
    {
      "cell_type": "markdown",
      "source": [
        "NHKの新型コロナウイルス特設サイトからCSVをダウンロードする。\n",
        "\n",
        "1日ごとの全国の感染者が記録されている。\n",
        "\n",
        "https://www3.nhk.or.jp/news/special/coronavirus/data/"
      ],
      "metadata": {
        "id": "cgPBHyQokJb2"
      }
    },
    {
      "cell_type": "markdown",
      "source": [
        "UNIXコマンド`curl`でGoogleドライブにファイルをダウンロードする。"
      ],
      "metadata": {
        "id": "82VIeGpxvi_3"
      }
    },
    {
      "cell_type": "code",
      "source": [
        "!curl -o /content/drive/MyDrive/covid19_cases.csv https://www3.nhk.or.jp/n-data/opendata/coronavirus/nhk_news_covid19_domestic_daily_data.csv"
      ],
      "metadata": {
        "id": "pSozr-uggzwD"
      },
      "execution_count": null,
      "outputs": []
    },
    {
      "cell_type": "code",
      "source": [
        "df_covid = pd.read_csv(os.path.join(drive_path, \"covid19_cases.csv\"), \n",
        "                  names=(\"date\", \"cases\"), usecols=[0, 1], skiprows=1)\n",
        "df_covid[\"date\"] = pd.to_datetime(df_covid[\"date\"])\n",
        "df_covid = df_covid.set_index(\"date\")\n",
        "df_covid"
      ],
      "metadata": {
        "id": "7q9o-VYLN8Hy"
      },
      "execution_count": null,
      "outputs": []
    },
    {
      "cell_type": "code",
      "source": [
        "df_covid.plot()"
      ],
      "metadata": {
        "id": "hAqQbFVsRelp"
      },
      "execution_count": null,
      "outputs": []
    },
    {
      "cell_type": "markdown",
      "source": [
        "# 相関関係の分析\n",
        "\n",
        "上のデータから任意の2データを選び、相関関係を分析する。\n",
        "\n",
        "まずはDataFrameを結合する。\n",
        "\n",
        "`index`つまり`date`が共通の列だけを結合した新たなDataFrameを作る。"
      ],
      "metadata": {
        "id": "MvPohmHPtESQ"
      }
    },
    {
      "cell_type": "code",
      "source": [
        "# 2つのdfでindexが共通の列だけを結合する\n",
        "df_concat = pd.concat([df_trends, df_covid], axis=1, join=\"inner\")\n",
        "df_concat"
      ],
      "metadata": {
        "id": "-R8EdmxStsiD"
      },
      "execution_count": null,
      "outputs": []
    },
    {
      "cell_type": "markdown",
      "source": [
        "今回は、第6波のデータだけ解析する。\n",
        "\n",
        "配列の**スライス**を使って2021-12-01以降のデータを取り出す。"
      ],
      "metadata": {
        "id": "SLgMlrbTT3oI"
      }
    },
    {
      "cell_type": "code",
      "source": [
        "df_concat = df_concat[-145:]\n",
        "df_concat"
      ],
      "metadata": {
        "id": "dMV_EDCYT26r"
      },
      "execution_count": null,
      "outputs": []
    },
    {
      "cell_type": "markdown",
      "source": [
        "それぞれの変数をプロットしてみる。"
      ],
      "metadata": {
        "id": "vT9VnvQMqPFD"
      }
    },
    {
      "cell_type": "code",
      "source": [
        "df_concat.plot(subplots=True)"
      ],
      "metadata": {
        "id": "4TdeSOAQ0udj"
      },
      "execution_count": null,
      "outputs": []
    },
    {
      "cell_type": "markdown",
      "source": [
        "グラフを見ると、第6波が始まりだしたころに検索数が増え、\n",
        "\n",
        "以降は感染者数が高止まりしているにも関わらず検索数は減少している。\n",
        "\n",
        "他の（コロナウイルスに関係ない）ワードの検索傾向とも比較し、この理由を考察してもよい。\n",
        "\n",
        "発表では相関分析や回帰分析以外の考察を説明してもよい。"
      ],
      "metadata": {
        "id": "kKqPky8lWCYj"
      }
    },
    {
      "cell_type": "markdown",
      "source": [
        "matplotlibのラッパーである`seaborn`ライブラリを使って、\n",
        "\n",
        "すべての組み合わせの2変数で散布図を作成できる。"
      ],
      "metadata": {
        "id": "2LUtaEKIyHKY"
      }
    },
    {
      "cell_type": "code",
      "source": [
        "sns.pairplot(df_concat)"
      ],
      "metadata": {
        "id": "ur3I333px5md"
      },
      "execution_count": null,
      "outputs": []
    },
    {
      "cell_type": "markdown",
      "source": [
        "散布図を描くことで、2変数がどのように関係しているか直感的に確認できる。\n",
        "\n",
        "この図をもとに考察してもよい。"
      ],
      "metadata": {
        "id": "TS2x0J51ZEEd"
      }
    },
    {
      "cell_type": "markdown",
      "source": [
        "これらの相関係数を求める。\n",
        "\n",
        "3変数以上ある場合にも、相互に相関係数を求められる。"
      ],
      "metadata": {
        "id": "bNwfXXKVt6Xs"
      }
    },
    {
      "cell_type": "code",
      "source": [
        "corr = df_concat.corr()\n",
        "sns.heatmap(corr, vmax=1, vmin=-1, center=0, \n",
        "            cmap=\"seismic\", square=True, annot=True)"
      ],
      "metadata": {
        "id": "28c2rk0xt-ix"
      },
      "execution_count": null,
      "outputs": []
    },
    {
      "cell_type": "markdown",
      "source": [
        "2変数の間にはある程度の相関があることがわかる。"
      ],
      "metadata": {
        "id": "Si040HREYkFC"
      }
    },
    {
      "cell_type": "markdown",
      "source": [
        "# 単回帰分析\n",
        "\n",
        "任意の1変数を目的変数(y軸)、別の任意の1変数を説明変数(x軸)として、\n",
        "\n",
        "単回帰分析を行う。\n",
        "\n",
        "まず、機械学習のためのライブラリscikit-learnから\n",
        "\n",
        "単回帰分析のためのモジュールを読み込む。"
      ],
      "metadata": {
        "id": "pwGmfPcuuRfx"
      }
    },
    {
      "cell_type": "code",
      "source": [
        "from sklearn import linear_model"
      ],
      "metadata": {
        "id": "-2MiGPEW1Q8B"
      },
      "execution_count": null,
      "outputs": []
    },
    {
      "cell_type": "code",
      "source": [
        "clf = linear_model.LinearRegression()\n",
        "X = df_concat[[\"抗原検査\"]]\n",
        "Y = df_concat[[\"cases\"]]\n",
        "clf.fit(X, Y)\n",
        "\n",
        "print(\"回帰係数: \" + str(clf.coef_))\n",
        "print(\"切片: \" + str(clf.intercept_))\n",
        "print(\"決定係数: \" + str(clf.score(X, Y)))"
      ],
      "metadata": {
        "id": "5i7bM-nj1aVK"
      },
      "execution_count": null,
      "outputs": []
    },
    {
      "cell_type": "markdown",
      "source": [
        "決定係数は高くないため、このモデルでは目的変数を十分に説明できているわけではない。"
      ],
      "metadata": {
        "id": "QvNediMCYQCY"
      }
    },
    {
      "cell_type": "markdown",
      "source": [
        "回帰直線を散布図に重ねて描くと以下のようになる。"
      ],
      "metadata": {
        "id": "ssPXRcZe2m11"
      }
    },
    {
      "cell_type": "code",
      "source": [
        "sns.lmplot(x=\"抗原検査\", y=\"cases\", data=df_concat)"
      ],
      "metadata": {
        "id": "wZe-o3jEwWPy"
      },
      "execution_count": null,
      "outputs": []
    },
    {
      "cell_type": "markdown",
      "source": [
        "グラフからも、単回帰によって十分に目的変数を説明できないことがわかる。"
      ],
      "metadata": {
        "id": "_LVBJhVZYYd3"
      }
    }
  ]
}