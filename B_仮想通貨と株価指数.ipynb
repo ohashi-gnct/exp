{
  "nbformat": 4,
  "nbformat_minor": 0,
  "metadata": {
    "colab": {
      "name": "3年生データサイエンス B 仮想通貨と株価指数",
      "provenance": [],
      "collapsed_sections": [],
      "mount_file_id": "1SQQJZ5JpVb9eg1ySBtL5ZgpLxo6GGtI3",
      "authorship_tag": "ABX9TyOFLDfQSAE8G1xJDt1PED83",
      "include_colab_link": true
    },
    "kernelspec": {
      "name": "python3",
      "display_name": "Python 3"
    },
    "language_info": {
      "name": "python"
    }
  },
  "cells": [
    {
      "cell_type": "markdown",
      "metadata": {
        "id": "view-in-github",
        "colab_type": "text"
      },
      "source": [
        "<a href=\"https://colab.research.google.com/github/ohashi-gnct/exp/blob/2022/B_%E4%BB%AE%E6%83%B3%E9%80%9A%E8%B2%A8%E3%81%A8%E6%A0%AA%E4%BE%A1%E6%8C%87%E6%95%B0.ipynb\" target=\"_parent\"><img src=\"https://colab.research.google.com/assets/colab-badge.svg\" alt=\"Open In Colab\"/></a>"
      ]
    },
    {
      "cell_type": "code",
      "source": [
        "import os\n",
        "import io\n",
        "import json\n",
        "import datetime as dt\n",
        "\n",
        "import numpy as np\n",
        "import pandas as pd\n",
        "import requests\n",
        "import matplotlib.pyplot as plt\n",
        "import seaborn as sns"
      ],
      "metadata": {
        "id": "cgGzPe0YF32o"
      },
      "execution_count": null,
      "outputs": []
    },
    {
      "cell_type": "markdown",
      "source": [
        "Colabに最初から入っていないライブラリをUNIXコマンドの`pip`で導入する。"
      ],
      "metadata": {
        "id": "4u-VZfD9l0KS"
      }
    },
    {
      "cell_type": "markdown",
      "source": [
        "`japanize-matplotlib`は日本語でmatplotlibが使えるようにするライブラリである。"
      ],
      "metadata": {
        "id": "O-OxF6o0mO8U"
      }
    },
    {
      "cell_type": "code",
      "source": [
        "!pip install japanize-matplotlib"
      ],
      "metadata": {
        "id": "22ByHMn_mIut"
      },
      "execution_count": null,
      "outputs": []
    },
    {
      "cell_type": "code",
      "source": [
        "# matplotlibの日本語化\n",
        "import japanize_matplotlib\n",
        "%matplotlib inline\n",
        "sns.set(font=\"IPAexGothic\")"
      ],
      "metadata": {
        "id": "1XqVeFTSmK4m"
      },
      "execution_count": null,
      "outputs": []
    },
    {
      "cell_type": "markdown",
      "source": [
        "Googleドライブを接続し、CSVファイルを自分のドライブに保存する。\n",
        "\n",
        "認証を求める画面が出る場合がある。\n",
        "\n",
        "自身でJupyter notebook環境を作っている場合、ディレクトリは適当に読み替えること。"
      ],
      "metadata": {
        "id": "-_ZoBYLOmSfB"
      }
    },
    {
      "cell_type": "code",
      "source": [
        "# Googleドライブの接続\n",
        "from google.colab import drive\n",
        "drive.mount('/content/drive', force_remount=True)\n",
        "drive_path = '/content/drive/MyDrive'"
      ],
      "metadata": {
        "id": "Sie2j1eOgTsO"
      },
      "execution_count": null,
      "outputs": []
    },
    {
      "cell_type": "markdown",
      "source": [
        "プロットの見栄えがするように初期設定する。"
      ],
      "metadata": {
        "id": "NqfNthGEmxtH"
      }
    },
    {
      "cell_type": "code",
      "source": [
        "# matplotlibの初期設定\n",
        "plt_config = {\n",
        "    \"figure.dpi\": 150,\n",
        "    \"font.size\": 14,\n",
        "    \"axes.xmargin\": 0,\n",
        "    \"axes.ymargin\": 0,\n",
        "    \"xtick.direction\": \"in\",\n",
        "    \"ytick.direction\": \"in\",\n",
        "    \"mathtext.cal\": \"serif\",\n",
        "    \"mathtext.rm\": \"serif\",\n",
        "    \"mathtext.it\": \"serif:italic\",\n",
        "    \"mathtext.bf\": \"serif.bold\",\n",
        "    \"mathtext.fontset\": \"cm\",\n",
        "    \"legend.framealpha\": 1.0,\n",
        "    \"legend.edgecolor\": \"black\",\n",
        "    \"legend.fancybox\": False\n",
        "}\n",
        "plt.rcParams.update(plt_config)"
      ],
      "metadata": {
        "id": "BL44vqXgGH2A"
      },
      "execution_count": null,
      "outputs": []
    },
    {
      "cell_type": "markdown",
      "source": [
        "# 仮想通貨\n",
        "\n",
        "CoinGeckoのAPIでJSONを取得し、仮想通貨の価格推移を取得する。\n",
        "\n",
        "APIの使い方\n",
        "\n",
        "https://www.coingecko.com/ja/api/documentation"
      ],
      "metadata": {
        "id": "kYsoN2lGN9G0"
      }
    },
    {
      "cell_type": "code",
      "source": [
        "!pip install pycoingecko"
      ],
      "metadata": {
        "id": "O6Ce3kuRTUU1"
      },
      "execution_count": null,
      "outputs": []
    },
    {
      "cell_type": "code",
      "source": [
        "from pycoingecko import CoinGeckoAPI\n",
        "cg = CoinGeckoAPI()"
      ],
      "metadata": {
        "id": "7ZiQjpRFTWW7"
      },
      "execution_count": null,
      "outputs": []
    },
    {
      "cell_type": "markdown",
      "source": [
        "`bitcoin`や`ripple`など、いろいろな仮想通貨の価格が取得できる。\n",
        "\n",
        "今回はイーサリアムの価格を取得する。\n",
        "\n",
        "イーサリアムは有名な仮想通貨のひとつであり、コロナ禍で個人でのマイニングが流行している。\n",
        "\n",
        "1日ごとの価格をJSON形式で取得し、pandasのDataFrameに変換する。"
      ],
      "metadata": {
        "id": "LLzMdIV1X77g"
      }
    },
    {
      "cell_type": "code",
      "source": [
        "ticker = \"ethereum\" # 仮想通貨名\n",
        "\n",
        "url_crypto = \"https://api.coingecko.com/api/v3/coins/\" + ticker + \\\n",
        "             \"/market_chart?vs_currency=usd&days=max\"\n",
        "r_crypto = requests.get(url_crypto)\n",
        "dict_crypto = json.loads(r_crypto.text)\n",
        "df_crypto = pd.DataFrame(dict_crypto[\"prices\"][:-1], \n",
        "                         columns=[\"date\", \"price\"])\n",
        "df_crypto[\"date\"] = pd.to_datetime(df_crypto[\"date\"], unit=\"ms\")\n",
        "df_crypto = df_crypto.set_index(\"date\")\n",
        "df_crypto"
      ],
      "metadata": {
        "id": "5Gnif9-rTb-o"
      },
      "execution_count": null,
      "outputs": []
    },
    {
      "cell_type": "code",
      "source": [
        "df_crypto.plot()"
      ],
      "metadata": {
        "id": "yCk34yywXnmp"
      },
      "execution_count": null,
      "outputs": []
    },
    {
      "cell_type": "markdown",
      "source": [
        "データはCSVとして保存する。"
      ],
      "metadata": {
        "id": "fJ1UcP8UYoyV"
      }
    },
    {
      "cell_type": "code",
      "source": [
        "df_crypto.to_csv(os.path.join(drive_path, \"crypto.csv\"))"
      ],
      "metadata": {
        "id": "4y1fceNXYktr"
      },
      "execution_count": null,
      "outputs": []
    },
    {
      "cell_type": "code",
      "source": [
        "# 保存したCSVファイルを読み込みたい場合、以下のように記述する。\n",
        "# df_crypto = pd.read_csv(os.path.join(drive_path, \".csv\"))\n",
        "# df_crypto[\"date\"] = pd.to_datetime(df_trends[\"date\"])\n",
        "# df_crypto = df_trends.set_index(\"date\")"
      ],
      "metadata": {
        "id": "mHmFvOaLYoRB"
      },
      "execution_count": null,
      "outputs": []
    },
    {
      "cell_type": "markdown",
      "source": [
        "# 米国株式指数"
      ],
      "metadata": {
        "id": "WuzKMFyoN_XO"
      }
    },
    {
      "cell_type": "markdown",
      "source": [
        "yahoo-finance-api2を利用する。\n",
        "\n",
        "このライブラリは、[Yahoo Finance](https://finance.yahoo.com/)が非公式に提供しているAPIを使いやすくしたものである。\n",
        "\n",
        "ドキュメントは以下の通り\n",
        "\n",
        "https://pypi.org/project/yahoo-finance-api2/"
      ],
      "metadata": {
        "id": "KMgQt933mSeH"
      }
    },
    {
      "cell_type": "code",
      "source": [
        "!pip install yahoo_finance_api2"
      ],
      "metadata": {
        "id": "kUFNA2RlhLic"
      },
      "execution_count": null,
      "outputs": []
    },
    {
      "cell_type": "code",
      "source": [
        "import sys\n",
        "from yahoo_finance_api2 import share\n",
        "from yahoo_finance_api2.exceptions import YahooFinanceError"
      ],
      "metadata": {
        "id": "R997GKEPhPWF"
      },
      "execution_count": null,
      "outputs": []
    },
    {
      "cell_type": "markdown",
      "source": [
        "取得する指数を指定する。\n",
        "\n",
        "指数一覧は以下で確認できる。\n",
        "\n",
        "https://optrip.xyz/?p=4467\n",
        "\n",
        "これに加え、`AAPL`などの個別株も取得できる。\n",
        "\n",
        "今回はS&P500という、アメリカの代表的な500社の株価指数を取得する。\n",
        "\n",
        "データは平日のみであることに注意する。"
      ],
      "metadata": {
        "id": "xft_ho3Exj5V"
      }
    },
    {
      "cell_type": "code",
      "source": [
        "stock_code = \"^GSPC\" # 指数の名前\n",
        "my_share = share.Share(stock_code)\n",
        "\n",
        "try:\n",
        "  symbol_data = my_share.get_historical(share.PERIOD_TYPE_YEAR, 3, \n",
        "                                        share.FREQUENCY_TYPE_DAY, 1)\n",
        "except YahooFinanceError as e:\n",
        "  print(f\">>> [{stock_code}] : {e.message}\")\n",
        "\n",
        "df_stock = pd.DataFrame(symbol_data)\n",
        "df_stock.columns=[\"date\", 'Open', 'High', 'Low', 'Close', 'Volume']\n",
        "# タイムスタンプを変換\n",
        "df_stock[\"date\"] = pd.to_datetime(df_stock[\"date\"], unit=\"ms\")\n",
        "# 時間や分を含むので、他のデータと合わせるためにDayに丸める\n",
        "df_stock[\"date\"] = df_stock[\"date\"].dt.round(\"D\")\n",
        "df_stock = df_stock.set_index(\"date\")\n",
        "df_stock"
      ],
      "metadata": {
        "id": "pe3RLGmfjNQM"
      },
      "execution_count": null,
      "outputs": []
    },
    {
      "cell_type": "markdown",
      "source": [
        "データはCSVとして保存する。"
      ],
      "metadata": {
        "id": "GEsDOn3TtJZ5"
      }
    },
    {
      "cell_type": "code",
      "source": [
        "df_stock.to_csv(os.path.join(drive_path, \"stock.csv\"))"
      ],
      "metadata": {
        "id": "9RW7ai5js9ZZ"
      },
      "execution_count": null,
      "outputs": []
    },
    {
      "cell_type": "code",
      "source": [
        "# 保存したCSVファイルを読み込みたい場合、以下のように記述する。\n",
        "# df_crypto = pd.read_csv(os.path.join(drive_path, \".csv\"))\n",
        "# df_crypto[\"date\"] = pd.to_datetime(df_trends[\"date\"])\n",
        "# df_crypto = df_trends.set_index(\"date\")"
      ],
      "metadata": {
        "id": "DwyXeUIIs98B"
      },
      "execution_count": null,
      "outputs": []
    },
    {
      "cell_type": "markdown",
      "source": [
        "株価は通常**ローソク足チャート**という図で表される。\n",
        "\n",
        "データ解析の際は、終値`Close`だけ用いればよいが、\n",
        "\n",
        "すべての列を使ってローソク足チャートを描くこともできる。"
      ],
      "metadata": {
        "id": "YVT5jTeVtLxk"
      }
    },
    {
      "cell_type": "code",
      "source": [
        "!pip install mplfinance"
      ],
      "metadata": {
        "id": "8_f8IcIinLhp"
      },
      "execution_count": null,
      "outputs": []
    },
    {
      "cell_type": "code",
      "source": [
        "import mplfinance"
      ],
      "metadata": {
        "id": "81V1Ei9dlhJJ"
      },
      "execution_count": null,
      "outputs": []
    },
    {
      "cell_type": "code",
      "source": [
        "# 直近50日を表示\n",
        "mplfinance.plot(df_stock[-50:], type=\"candle\")"
      ],
      "metadata": {
        "id": "AEReYh-EnKhV"
      },
      "execution_count": null,
      "outputs": []
    },
    {
      "cell_type": "markdown",
      "source": [
        "# 相関関係の分析\n",
        "\n",
        "上のデータから任意の2データを選び、相関関係を分析する。\n",
        "\n",
        "まずはDataFrameを結合する。\n",
        "\n",
        "`index`つまり`date`が共通の列だけを結合した新たなDataFrameを作る。"
      ],
      "metadata": {
        "id": "MvPohmHPtESQ"
      }
    },
    {
      "cell_type": "code",
      "source": [
        "# 2つのdfでindexが共通の列だけを結合する\n",
        "df_concat = pd.concat([df_crypto, df_stock], axis=1, join=\"inner\")\n",
        "df_concat = df_concat.drop([\"Open\", \"High\", \"Low\", \"Volume\"], axis=1)\n",
        "df_concat = df_concat.set_axis([ticker, stock_code], axis=1)\n",
        "df_concat"
      ],
      "metadata": {
        "id": "-R8EdmxStsiD"
      },
      "execution_count": null,
      "outputs": []
    },
    {
      "cell_type": "markdown",
      "source": [
        "この解析では過去1年間のデータを見る。\n",
        "\n",
        "配列の**スライス**を使って過去1年間のデータを取り出す。"
      ],
      "metadata": {
        "id": "7BjLWC3gb7d-"
      }
    },
    {
      "cell_type": "code",
      "source": [
        "df_concat = df_concat[-253:]\n",
        "df_concat"
      ],
      "metadata": {
        "id": "En9sgYvWb7QZ"
      },
      "execution_count": null,
      "outputs": []
    },
    {
      "cell_type": "markdown",
      "source": [
        "それぞれの変数をプロットしてみる。"
      ],
      "metadata": {
        "id": "vT9VnvQMqPFD"
      }
    },
    {
      "cell_type": "code",
      "source": [
        "df_concat.plot(subplots=True)"
      ],
      "metadata": {
        "id": "4TdeSOAQ0udj"
      },
      "execution_count": null,
      "outputs": []
    },
    {
      "cell_type": "markdown",
      "source": [
        "見た目としては似た傾向にある。\n",
        "\n",
        "株価とリンクしているところはどのような要因があったか、リンクしていないところはどのような要因化考察してもよい。\n",
        "\n",
        "発表では相関分析や回帰分析以外の考察を説明してもよい。\n",
        "\n",
        "仮想通貨のほうが値動きが激しいことに注意する。"
      ],
      "metadata": {
        "id": "5h34Sq6-ccI0"
      }
    },
    {
      "cell_type": "markdown",
      "source": [
        "matplotlibのラッパーである`seaborn`ライブラリを使って、\n",
        "\n",
        "すべての組み合わせの2変数で散布図を作成できる。"
      ],
      "metadata": {
        "id": "2LUtaEKIyHKY"
      }
    },
    {
      "cell_type": "code",
      "source": [
        "sns.pairplot(df_concat)"
      ],
      "metadata": {
        "id": "ur3I333px5md"
      },
      "execution_count": null,
      "outputs": []
    },
    {
      "cell_type": "markdown",
      "source": [
        "散布図を描くことで、2変数がどのように関係しているか直感的に確認できる。\n",
        "\n",
        "この図をもとに考察してもよい。"
      ],
      "metadata": {
        "id": "G4PJl8MPdm_D"
      }
    },
    {
      "cell_type": "markdown",
      "source": [
        "これらの相関係数を求める。\n",
        "\n",
        "3変数以上ある場合にも、相互に相関係数を求められる。"
      ],
      "metadata": {
        "id": "bNwfXXKVt6Xs"
      }
    },
    {
      "cell_type": "code",
      "source": [
        "corr = df_concat.corr()\n",
        "sns.heatmap(corr, vmax=1, vmin=-1, center=0, \n",
        "            cmap=\"seismic\", square=True, annot=True)"
      ],
      "metadata": {
        "id": "28c2rk0xt-ix"
      },
      "execution_count": null,
      "outputs": []
    },
    {
      "cell_type": "markdown",
      "source": [
        "やや相関があることがわかる。"
      ],
      "metadata": {
        "id": "S4qX1SWBcoAO"
      }
    },
    {
      "cell_type": "markdown",
      "source": [
        "# 単回帰分析\n",
        "\n",
        "任意の1変数を目的変数(y軸)、別の任意の1変数を説明変数(x軸)として、\n",
        "\n",
        "単回帰分析を行う。\n",
        "\n",
        "まず、機械学習のためのライブラリscikit-learnから\n",
        "\n",
        "単回帰分析のためのモジュールを読み込む。"
      ],
      "metadata": {
        "id": "pwGmfPcuuRfx"
      }
    },
    {
      "cell_type": "code",
      "source": [
        "from sklearn import linear_model"
      ],
      "metadata": {
        "id": "-2MiGPEW1Q8B"
      },
      "execution_count": null,
      "outputs": []
    },
    {
      "cell_type": "code",
      "source": [
        "clf = linear_model.LinearRegression()\n",
        "X = df_concat[[ticker]]\n",
        "Y = df_concat[[stock_code]]\n",
        "clf.fit(X, Y)\n",
        "\n",
        "print(\"回帰係数: \" + str(clf.coef_))\n",
        "print(\"切片: \" + str(clf.intercept_))\n",
        "print(\"決定係数: \" + str(clf.score(X, Y)))"
      ],
      "metadata": {
        "id": "5i7bM-nj1aVK"
      },
      "execution_count": null,
      "outputs": []
    },
    {
      "cell_type": "markdown",
      "source": [
        "決定係数は高くないため、このモデルでは目的変数を十分に説明できているわけではない。"
      ],
      "metadata": {
        "id": "CZ3vlNCKdvX5"
      }
    },
    {
      "cell_type": "markdown",
      "source": [
        "回帰直線を散布図に重ねて描くと以下のようになる。"
      ],
      "metadata": {
        "id": "ssPXRcZe2m11"
      }
    },
    {
      "cell_type": "code",
      "source": [
        "sns.lmplot(x=ticker, y=stock_code, data=df_concat)"
      ],
      "metadata": {
        "id": "wZe-o3jEwWPy"
      },
      "execution_count": null,
      "outputs": []
    },
    {
      "cell_type": "markdown",
      "source": [
        "グラフからも、単回帰によって十分に目的変数を説明できないことがわかる。"
      ],
      "metadata": {
        "id": "_1Q31TZOd0Km"
      }
    }
  ]
}