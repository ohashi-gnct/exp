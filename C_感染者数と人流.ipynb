{
  "nbformat": 4,
  "nbformat_minor": 0,
  "metadata": {
    "colab": {
      "name": "3年生データサイエンス C 感染者数と人流",
      "provenance": [],
      "collapsed_sections": [],
      "mount_file_id": "1SQQJZ5JpVb9eg1ySBtL5ZgpLxo6GGtI3",
      "authorship_tag": "ABX9TyOgPzObVprbxpsXNQWoPQE3",
      "include_colab_link": true
    },
    "kernelspec": {
      "name": "python3",
      "display_name": "Python 3"
    },
    "language_info": {
      "name": "python"
    }
  },
  "cells": [
    {
      "cell_type": "markdown",
      "metadata": {
        "id": "view-in-github",
        "colab_type": "text"
      },
      "source": [
        "<a href=\"https://colab.research.google.com/github/ohashi-gnct/exp/blob/2022/3%E5%B9%B4%E7%94%9F%E3%83%87%E3%83%BC%E3%82%BF%E3%82%B5%E3%82%A4%E3%82%A8%E3%83%B3%E3%82%B9_C_%E6%84%9F%E6%9F%93%E8%80%85%E6%95%B0%E3%81%A8%E4%BA%BA%E6%B5%81.ipynb\" target=\"_parent\"><img src=\"https://colab.research.google.com/assets/colab-badge.svg\" alt=\"Open In Colab\"/></a>"
      ]
    },
    {
      "cell_type": "code",
      "source": [
        "import os\n",
        "import io\n",
        "import json\n",
        "import datetime as dt\n",
        "\n",
        "import numpy as np\n",
        "import pandas as pd\n",
        "import requests\n",
        "import matplotlib.pyplot as plt\n",
        "import seaborn as sns"
      ],
      "metadata": {
        "id": "cgGzPe0YF32o"
      },
      "execution_count": null,
      "outputs": []
    },
    {
      "cell_type": "markdown",
      "source": [
        "Colabに最初から入っていないライブラリをUNIXコマンドの`pip`で導入する。"
      ],
      "metadata": {
        "id": "4u-VZfD9l0KS"
      }
    },
    {
      "cell_type": "markdown",
      "source": [
        "`japanize-matplotlib`は日本語でmatplotlibが使えるようにするライブラリである。"
      ],
      "metadata": {
        "id": "O-OxF6o0mO8U"
      }
    },
    {
      "cell_type": "code",
      "source": [
        "!pip install japanize-matplotlib"
      ],
      "metadata": {
        "id": "22ByHMn_mIut"
      },
      "execution_count": null,
      "outputs": []
    },
    {
      "cell_type": "code",
      "source": [
        "# matplotlibの日本語化\n",
        "import japanize_matplotlib\n",
        "%matplotlib inline\n",
        "sns.set(font=\"IPAexGothic\")"
      ],
      "metadata": {
        "id": "1XqVeFTSmK4m"
      },
      "execution_count": null,
      "outputs": []
    },
    {
      "cell_type": "markdown",
      "source": [
        "Googleドライブを接続し、CSVファイルを自分のドライブに保存する。\n",
        "\n",
        "認証を求める画面が出る場合がある。\n",
        "\n",
        "自身でJupyter notebook環境を作っている場合、ディレクトリは適当に読み替えること。"
      ],
      "metadata": {
        "id": "-_ZoBYLOmSfB"
      }
    },
    {
      "cell_type": "code",
      "source": [
        "# Googleドライブの接続\n",
        "from google.colab import drive\n",
        "drive.mount('/content/drive', force_remount=True)\n",
        "drive_path = '/content/drive/MyDrive'"
      ],
      "metadata": {
        "colab": {
          "base_uri": "https://localhost:8080/"
        },
        "id": "Sie2j1eOgTsO",
        "outputId": "ffb04dd5-c4c1-4457-e0b0-fd9db194d9e2"
      },
      "execution_count": null,
      "outputs": [
        {
          "output_type": "stream",
          "name": "stdout",
          "text": [
            "Mounted at /content/drive\n"
          ]
        }
      ]
    },
    {
      "cell_type": "markdown",
      "source": [
        "プロットの見栄えがするように初期設定する。"
      ],
      "metadata": {
        "id": "NqfNthGEmxtH"
      }
    },
    {
      "cell_type": "code",
      "source": [
        "# matplotlibの初期設定\n",
        "plt_config = {\n",
        "    \"figure.dpi\": 150,\n",
        "    \"font.size\": 14,\n",
        "    \"axes.xmargin\": 0,\n",
        "    \"axes.ymargin\": 0,\n",
        "    \"xtick.direction\": \"in\",\n",
        "    \"ytick.direction\": \"in\",\n",
        "    \"mathtext.cal\": \"serif\",\n",
        "    \"mathtext.rm\": \"serif\",\n",
        "    \"mathtext.it\": \"serif:italic\",\n",
        "    \"mathtext.bf\": \"serif.bold\",\n",
        "    \"mathtext.fontset\": \"cm\",\n",
        "    \"legend.framealpha\": 1.0,\n",
        "    \"legend.edgecolor\": \"black\",\n",
        "    \"legend.fancybox\": False\n",
        "}\n",
        "plt.rcParams.update(plt_config)"
      ],
      "metadata": {
        "id": "BL44vqXgGH2A"
      },
      "execution_count": null,
      "outputs": []
    },
    {
      "cell_type": "markdown",
      "source": [
        "# コロナ感染者"
      ],
      "metadata": {
        "id": "5vDJdGz-Ngj_"
      }
    },
    {
      "cell_type": "markdown",
      "source": [
        "NHKの新型コロナウイルス特設サイトからCSVをダウンロードする。\n",
        "\n",
        "1日ごとの全国の感染者が記録されている。\n",
        "\n",
        "https://www3.nhk.or.jp/news/special/coronavirus/data/"
      ],
      "metadata": {
        "id": "cgPBHyQokJb2"
      }
    },
    {
      "cell_type": "markdown",
      "source": [
        "UNIXコマンド`curl`でGoogleドライブにファイルをダウンロードする。"
      ],
      "metadata": {
        "id": "82VIeGpxvi_3"
      }
    },
    {
      "cell_type": "code",
      "source": [
        "!curl -o /content/drive/MyDrive/covid19_cases.csv https://www3.nhk.or.jp/n-data/opendata/coronavirus/nhk_news_covid19_domestic_daily_data.csv"
      ],
      "metadata": {
        "id": "pSozr-uggzwD"
      },
      "execution_count": null,
      "outputs": []
    },
    {
      "cell_type": "code",
      "source": [
        "df_covid = pd.read_csv(os.path.join(drive_path, \"covid19_cases.csv\"), \n",
        "                  names=(\"date\", \"cases\"), usecols=[0, 1], skiprows=1)\n",
        "df_covid[\"date\"] = pd.to_datetime(df_covid[\"date\"])\n",
        "df_covid = df_covid.set_index(\"date\")\n",
        "df_covid"
      ],
      "metadata": {
        "id": "7q9o-VYLN8Hy"
      },
      "execution_count": null,
      "outputs": []
    },
    {
      "cell_type": "code",
      "source": [
        "df_covid.plot()"
      ],
      "metadata": {
        "id": "hAqQbFVsRelp"
      },
      "execution_count": null,
      "outputs": []
    },
    {
      "cell_type": "markdown",
      "source": [
        "# 人々の流れ\n",
        "\n",
        "Googleのモビリティレポートから取得したCSVファイルをもとに、\n",
        "\n",
        "データの結合や不要な列の削除を行って使いやすくしたCSVファイルが以下にアップロードされている。\n",
        "\n",
        "https://www.gifu-nct.ac.jp/elec/ohashi/datascience/mobilityreport.csv\n",
        "\n",
        "元データは以下からダウンロードできる。\n",
        "\n",
        "https://www.google.com/covid19/mobility/?hl=ja\n",
        "\n",
        "それぞれのデータの説明は以下に掲載されている。\n",
        "\n",
        "https://support.google.com/covid19-mobility/answer/9825414?hl=ja&ref_topic=9822927\n",
        "\n"
      ],
      "metadata": {
        "id": "Bww2zoYjfY-N"
      }
    },
    {
      "cell_type": "markdown",
      "source": [
        "それぞれのデータについて説明する。\n",
        "\n",
        "`retail_and_recreation_percent_change_from_baseline`:\n",
        "\n",
        "娯楽関連施設の、曜日別基準値（ 2020 年 1 月 3 日〜2 月 6 日の 5 週間の曜日別中央値）\n",
        "\n",
        "と比較した訪問者数の増加割合[%]\n",
        "\n",
        "`transit_stations_percent_change_from_baseline`:\n",
        "\n",
        "公共交通機関の、曜日別基準値と比較した訪問者数の増加割合[%]\n",
        "\n",
        "`residential_percent_change_from_baseline`:\n",
        "\n",
        "住居の、曜日別基準値と比較した滞在時間の増加割合[%]\n",
        "\n",
        "住居のみ性質の異なるデータであることに注意する。"
      ],
      "metadata": {
        "id": "DeWB3R1bpF6v"
      }
    },
    {
      "cell_type": "markdown",
      "source": [
        "UNIXコマンド`curl`でGoogleドライブにファイルをダウンロードする。"
      ],
      "metadata": {
        "id": "l12BIvY7vkeZ"
      }
    },
    {
      "cell_type": "code",
      "source": [
        "!curl -o /content/drive/MyDrive/mobility.csv https://www.gifu-nct.ac.jp/elec/ohashi/datascience/mobilityreport.csv"
      ],
      "metadata": {
        "id": "jALJ_oQjiFmL"
      },
      "execution_count": null,
      "outputs": []
    },
    {
      "cell_type": "code",
      "source": [
        "df_mobility = pd.read_csv(os.path.join(drive_path, \"mobility.csv\"),\n",
        "                          usecols=[0, 1, 4, 6])\n",
        "df_mobility = df_mobility.set_axis([\"date\", \"retail\", \"transit\", \"residential\"],\n",
        "                                   axis=1)\n",
        "df_mobility[\"date\"] = pd.to_datetime(df_mobility[\"date\"])\n",
        "df_mobility = df_mobility.set_index(\"date\")\n",
        "df_mobility"
      ],
      "metadata": {
        "id": "E-wDL5mCf0sj"
      },
      "execution_count": null,
      "outputs": []
    },
    {
      "cell_type": "code",
      "source": [
        "df_mobility.plot()"
      ],
      "metadata": {
        "id": "icbXXHwblNCu"
      },
      "execution_count": null,
      "outputs": []
    },
    {
      "cell_type": "markdown",
      "source": [
        "# 相関関係の分析\n",
        "\n",
        "上のデータから任意の2データを選び、相関関係を分析する。\n",
        "\n",
        "まずはDataFrameを結合する。\n",
        "\n",
        "`index`つまり`date`が共通の列だけを結合した新たなDataFrameを作る。"
      ],
      "metadata": {
        "id": "MvPohmHPtESQ"
      }
    },
    {
      "cell_type": "code",
      "source": [
        "# 2つのdfでindexが共通の列だけを結合する\n",
        "df_concat = pd.concat([df_covid, df_mobility], axis=1, join=\"inner\")\n",
        "df_concat"
      ],
      "metadata": {
        "id": "-R8EdmxStsiD"
      },
      "execution_count": null,
      "outputs": []
    },
    {
      "cell_type": "markdown",
      "source": [
        "今回は、第1波だけに着目する。\n",
        "\n",
        "配列の**スライス**を使って2020-06-31までのデータを取り出す。"
      ],
      "metadata": {
        "id": "yIqVn-WBfB1J"
      }
    },
    {
      "cell_type": "code",
      "source": [
        "df_concat = df_concat[:137]\n",
        "df_concat"
      ],
      "metadata": {
        "id": "dmK4TK7jfP_z"
      },
      "execution_count": null,
      "outputs": []
    },
    {
      "cell_type": "markdown",
      "source": [
        "それぞれの変数をプロットしてみる。"
      ],
      "metadata": {
        "id": "vT9VnvQMqPFD"
      }
    },
    {
      "cell_type": "code",
      "source": [
        "df_concat.plot(subplots=True)"
      ],
      "metadata": {
        "id": "4TdeSOAQ0udj"
      },
      "execution_count": null,
      "outputs": []
    },
    {
      "cell_type": "markdown",
      "source": [
        "グラフを見ると、感染者数の増加に遅れるような形で公共交通機関や娯楽店の訪問者が減少している。\n",
        "\n",
        "この傾向を第2波や第3波などと比較してもよい。\n",
        "\n",
        "また、時間遅れを加味した関連性を考える際には**相互相関**をとるとよい。\n",
        "\n",
        "発表では相関分析や回帰分析以外の考察を説明してもよい。"
      ],
      "metadata": {
        "id": "sTg6wGSziRxv"
      }
    },
    {
      "cell_type": "markdown",
      "source": [
        "matplotlibのラッパーである`seaborn`ライブラリを使って、\n",
        "\n",
        "すべての組み合わせの2変数で散布図を作成できる。"
      ],
      "metadata": {
        "id": "2LUtaEKIyHKY"
      }
    },
    {
      "cell_type": "code",
      "source": [
        "sns.pairplot(df_concat)"
      ],
      "metadata": {
        "id": "ur3I333px5md"
      },
      "execution_count": null,
      "outputs": []
    },
    {
      "cell_type": "markdown",
      "source": [
        "散布図を描くことで、2変数がどのように関係しているか直感的に確認できる。\n",
        "\n",
        "この図をもとに考察してもよい。"
      ],
      "metadata": {
        "id": "EATNVRkmitwi"
      }
    },
    {
      "cell_type": "markdown",
      "source": [
        "これらの相関係数を求める。\n",
        "\n",
        "3変数以上ある場合にも、相互に相関係数を求められる。"
      ],
      "metadata": {
        "id": "bNwfXXKVt6Xs"
      }
    },
    {
      "cell_type": "code",
      "source": [
        "corr = df_concat.corr()\n",
        "sns.heatmap(corr, vmax=1, vmin=-1, center=0, \n",
        "            cmap=\"seismic\", square=True, annot=True)"
      ],
      "metadata": {
        "id": "28c2rk0xt-ix"
      },
      "execution_count": null,
      "outputs": []
    },
    {
      "cell_type": "markdown",
      "source": [
        "今回は`cases`と`retail`の関係に着目する。\n",
        "\n",
        "感染者数が増えたとき、娯楽店の訪問者が減る負の相関があるといえる。"
      ],
      "metadata": {
        "id": "DjotMeuCiC3I"
      }
    },
    {
      "cell_type": "markdown",
      "source": [
        "# 単回帰分析\n",
        "\n",
        "任意の1変数を目的変数(y軸)、別の任意の1変数を説明変数(x軸)として、\n",
        "\n",
        "単回帰分析を行う。\n",
        "\n",
        "まず、機械学習のためのライブラリscikit-learnから\n",
        "\n",
        "単回帰分析のためのモジュールを読み込む。"
      ],
      "metadata": {
        "id": "pwGmfPcuuRfx"
      }
    },
    {
      "cell_type": "code",
      "source": [
        "from sklearn import linear_model"
      ],
      "metadata": {
        "id": "-2MiGPEW1Q8B"
      },
      "execution_count": null,
      "outputs": []
    },
    {
      "cell_type": "code",
      "source": [
        "clf = linear_model.LinearRegression()\n",
        "X = df_concat[[\"cases\"]]\n",
        "Y = df_concat[[\"retail\"]]\n",
        "clf.fit(X, Y)\n",
        "\n",
        "print(\"回帰係数: \" + str(clf.coef_))\n",
        "print(\"切片: \" + str(clf.intercept_))\n",
        "print(\"決定係数: \" + str(clf.score(X, Y)))"
      ],
      "metadata": {
        "id": "5i7bM-nj1aVK"
      },
      "execution_count": null,
      "outputs": []
    },
    {
      "cell_type": "markdown",
      "source": [
        "決定係数は低いため、このモデルでは目的変数を説明できない。"
      ],
      "metadata": {
        "id": "M2WH0lQziyXh"
      }
    },
    {
      "cell_type": "markdown",
      "source": [
        "回帰直線を散布図に重ねて描くと以下のようになる。"
      ],
      "metadata": {
        "id": "ssPXRcZe2m11"
      }
    },
    {
      "cell_type": "code",
      "source": [
        "sns.lmplot(x=\"cases\", y=\"retail\", data=df_concat[-365:])"
      ],
      "metadata": {
        "id": "wZe-o3jEwWPy"
      },
      "execution_count": null,
      "outputs": []
    },
    {
      "cell_type": "markdown",
      "source": [
        "グラフからも、単回帰によって十分に目的変数を説明できないことがわかる。"
      ],
      "metadata": {
        "id": "G1122VmFi3G4"
      }
    }
  ]
}
