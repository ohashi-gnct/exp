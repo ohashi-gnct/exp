{
  "nbformat": 4,
  "nbformat_minor": 0,
  "metadata": {
    "colab": {
      "name": "3年生データサイエンス D 気温とGoogle検索数",
      "provenance": [],
      "mount_file_id": "1SQQJZ5JpVb9eg1ySBtL5ZgpLxo6GGtI3",
      "authorship_tag": "ABX9TyP7juM9WYwWpW2fqiDrL2by",
      "include_colab_link": true
    },
    "kernelspec": {
      "name": "python3",
      "display_name": "Python 3"
    },
    "language_info": {
      "name": "python"
    }
  },
  "cells": [
    {
      "cell_type": "markdown",
      "metadata": {
        "id": "view-in-github",
        "colab_type": "text"
      },
      "source": [
        "<a href=\"https://colab.research.google.com/github/ohashi-gnct/exp/blob/2023/D_%E6%B0%97%E6%B8%A9%E3%81%A8Google%E6%A4%9C%E7%B4%A2%E6%95%B0.ipynb\" target=\"_parent\"><img src=\"https://colab.research.google.com/assets/colab-badge.svg\" alt=\"Open In Colab\"/></a>"
      ]
    },
    {
      "cell_type": "code",
      "source": [
        "import os\n",
        "import io\n",
        "import json\n",
        "import datetime as dt\n",
        "\n",
        "import numpy as np\n",
        "import pandas as pd\n",
        "import requests\n",
        "import matplotlib.pyplot as plt\n",
        "import seaborn as sns"
      ],
      "metadata": {
        "id": "cgGzPe0YF32o"
      },
      "execution_count": null,
      "outputs": []
    },
    {
      "cell_type": "markdown",
      "source": [
        "Colabに最初から入っていないライブラリをUNIXコマンドの`pip`で導入する。"
      ],
      "metadata": {
        "id": "4u-VZfD9l0KS"
      }
    },
    {
      "cell_type": "markdown",
      "source": [
        "`japanize-matplotlib`は日本語でmatplotlibが使えるようにするライブラリである。"
      ],
      "metadata": {
        "id": "O-OxF6o0mO8U"
      }
    },
    {
      "cell_type": "code",
      "source": [
        "!pip install japanize-matplotlib"
      ],
      "metadata": {
        "id": "22ByHMn_mIut"
      },
      "execution_count": null,
      "outputs": []
    },
    {
      "cell_type": "code",
      "source": [
        "# matplotlibの日本語化\n",
        "import japanize_matplotlib\n",
        "%matplotlib inline\n",
        "sns.set(font=\"IPAexGothic\")"
      ],
      "metadata": {
        "id": "1XqVeFTSmK4m"
      },
      "execution_count": null,
      "outputs": []
    },
    {
      "cell_type": "markdown",
      "source": [
        "Googleドライブを接続し、CSVファイルを自分のドライブに保存する。\n",
        "\n",
        "認証を求める画面が出る場合がある。\n",
        "\n",
        "自身でJupyter notebook環境を作っている場合、ディレクトリは適当に読み替えること。"
      ],
      "metadata": {
        "id": "-_ZoBYLOmSfB"
      }
    },
    {
      "cell_type": "code",
      "source": [
        "# Googleドライブの接続\n",
        "from google.colab import drive\n",
        "drive.mount('/content/drive', force_remount=True)\n",
        "drive_path = '/content/drive/MyDrive'"
      ],
      "metadata": {
        "id": "Sie2j1eOgTsO"
      },
      "execution_count": null,
      "outputs": []
    },
    {
      "cell_type": "markdown",
      "source": [
        "プロットの見栄えがするように初期設定する。"
      ],
      "metadata": {
        "id": "NqfNthGEmxtH"
      }
    },
    {
      "cell_type": "code",
      "source": [
        "# matplotlibの初期設定\n",
        "plt_config = {\n",
        "    \"figure.dpi\": 150,\n",
        "    \"font.size\": 14,\n",
        "    \"axes.xmargin\": 0,\n",
        "    \"axes.ymargin\": 0,\n",
        "    \"xtick.direction\": \"in\",\n",
        "    \"ytick.direction\": \"in\",\n",
        "    \"mathtext.cal\": \"serif\",\n",
        "    \"mathtext.rm\": \"serif\",\n",
        "    \"mathtext.it\": \"serif:italic\",\n",
        "    \"mathtext.bf\": \"serif.bold\",\n",
        "    \"mathtext.fontset\": \"cm\",\n",
        "    \"legend.framealpha\": 1.0,\n",
        "    \"legend.edgecolor\": \"black\",\n",
        "    \"legend.fancybox\": False\n",
        "}\n",
        "plt.rcParams.update(plt_config)"
      ],
      "metadata": {
        "id": "BL44vqXgGH2A"
      },
      "execution_count": null,
      "outputs": []
    },
    {
      "cell_type": "markdown",
      "source": [
        "# Google検索"
      ],
      "metadata": {
        "id": "8LAKD9_iKIE0"
      }
    },
    {
      "cell_type": "markdown",
      "source": [
        "特定の検索ワードについて、その検索数の推移を取得できる。\n",
        "\n",
        "値は検索回数ではなく、検索回数の最大が100になるようスケールされた数である。\n",
        "\n",
        "https://smart-hint.com/python/pytrends/"
      ],
      "metadata": {
        "id": "sezSahzjKMxe"
      }
    },
    {
      "cell_type": "code",
      "execution_count": null,
      "metadata": {
        "id": "fhLe0on8FuyD"
      },
      "outputs": [],
      "source": [
        "!pip install pytrends"
      ]
    },
    {
      "cell_type": "code",
      "source": [
        "from pytrends.request import TrendReq\n",
        "pytrends = TrendReq(hl='ja-JP', tz=-540)"
      ],
      "metadata": {
        "id": "g9CW8RBjFuyC"
      },
      "execution_count": null,
      "outputs": []
    },
    {
      "cell_type": "markdown",
      "source": [
        "2023-10-09から過去3年間について、キーワードの検索数の推移を取得する。\n",
        "\n",
        "このとき、取得できるデータは週単位で集計されていることに注意する。\n",
        "\n",
        "期間を270日以下にすれば、日ごとのデータが取得できる。\n",
        "\n",
        "注意：日付の範囲を変えると、週ごとのデータの開始日が変わるため、<br>\n",
        "天気のデータを週ごとにまとめた時indexが整合しないことがある。"
      ],
      "metadata": {
        "id": "fk-qsU7IviYd"
      }
    },
    {
      "cell_type": "code",
      "source": [
        "kw_list = ['鍋'] # キーワードのリスト（5個まで）\n",
        "# 開始、終了日を記述\n",
        "pytrends.build_payload(kw_list=kw_list,\n",
        "                       timeframe='2020-10-10 2023-10-09',\n",
        "                       geo='JP')\n",
        "df_trends = pytrends.interest_over_time()\n",
        "df_trends = df_trends.drop('isPartial', axis=1)\n",
        "df_trends"
      ],
      "metadata": {
        "id": "kRc1UvUMGU90"
      },
      "execution_count": null,
      "outputs": []
    },
    {
      "cell_type": "code",
      "source": [
        "df_trends.plot()"
      ],
      "metadata": {
        "id": "-Hmu-PqOGvsQ"
      },
      "execution_count": null,
      "outputs": []
    },
    {
      "cell_type": "markdown",
      "source": [
        "データはCSVファイルとして保存する。"
      ],
      "metadata": {
        "id": "PzkxI7awnqDx"
      }
    },
    {
      "cell_type": "code",
      "source": [
        "df_trends.to_csv(os.path.join(drive_path, \"trends.csv\"))"
      ],
      "metadata": {
        "id": "Dwp96Y5LGlzs"
      },
      "execution_count": null,
      "outputs": []
    },
    {
      "cell_type": "code",
      "source": [
        "# 保存したCSVファイルを読み込みたい場合、以下のように記述する。\n",
        "# df_trends = pd.read_csv(os.path.join(drive_path, \"trends.csv\"))\n",
        "# df_trends[\"date\"] = pd.to_datetime(df_trends[\"date\"])\n",
        "# df_trends = df_trends.set_index(\"date\")"
      ],
      "metadata": {
        "id": "sJRXvjC9oVzP"
      },
      "execution_count": null,
      "outputs": []
    },
    {
      "cell_type": "markdown",
      "source": [
        "# 気温と降水量\n",
        "\n",
        "気象庁からCSVファイルを取得したものが以下にアップロードされている。\n",
        "\n",
        "https://www.gifu-nct.ac.jp/elec/ohashi/datascience/weather.csv\n",
        "\n",
        "このCSVは以下のページで取得できる。\n",
        "\n",
        "https://www.data.jma.go.jp/gmd/risk/obsdl/\n",
        "\n",
        "東京の2020-01-01から2023-10-09までの\n",
        "\n",
        "`日最高気温`, `日最低気温`, `降水量の日合計`, `日照時間`\n",
        "\n",
        "を選んで出力されたCSVファイルをそのまま使う。\n",
        "\n",
        "エンコードが`Shift_JIS`であることに注意する。"
      ],
      "metadata": {
        "id": "gBs3vBK8K1P-"
      }
    },
    {
      "cell_type": "markdown",
      "source": [
        "UNIXコマンド`curl`でGoogleドライブにファイルをダウンロードする。"
      ],
      "metadata": {
        "id": "9FqQWOy6vaer"
      }
    },
    {
      "cell_type": "code",
      "source": [
        "!curl -o /content/drive/MyDrive/weather.csv https://www.gifu-nct.ac.jp/elec/ohashi/datascience/weather.csv"
      ],
      "metadata": {
        "id": "UbY6YarcHBLi"
      },
      "execution_count": null,
      "outputs": []
    },
    {
      "cell_type": "code",
      "source": [
        "df_weather = pd.read_csv(os.path.join(drive_path, \"weather.csv\"),\n",
        "                         names=(\"date\", \"maxtemp\",\n",
        "                                \"precipitation\", \"mintemp\", \"daylight\"),\n",
        "                         usecols=[0, 1, 4, 8, 11], skiprows=6,\n",
        "                         encoding=\"SHIFT-JIS\")\n",
        "df_weather[\"date\"] = pd.to_datetime(df_weather[\"date\"])\n",
        "df_weather"
      ],
      "metadata": {
        "id": "t4P0vHbqs5Ay"
      },
      "execution_count": null,
      "outputs": []
    },
    {
      "cell_type": "code",
      "source": [
        "# index（横軸）を日付にしてからプロット\n",
        "df_weather.set_index(\"date\").plot(subplots=True)"
      ],
      "metadata": {
        "id": "YzqQSS5sr2v0"
      },
      "execution_count": null,
      "outputs": []
    },
    {
      "cell_type": "markdown",
      "source": [
        "# 相関関係の分析\n",
        "\n",
        "上のデータから任意の2データを選び、相関関係を分析する。\n",
        "\n",
        "2つのDataFrameを結合したいが、Googleトレンドは週単位、\n",
        "\n",
        "天気は日単位になっているため、週単位に揃える。\n",
        "\n",
        "天気のデータについて、1週間ごとの平均をとる。"
      ],
      "metadata": {
        "id": "MvPohmHPtESQ"
      }
    },
    {
      "cell_type": "code",
      "source": [
        "# 日曜日を始まりとして、1週間ごとの平均をとる\n",
        "df_weekly_weather = df_weather.groupby(pd.Grouper(key='date', freq='W-SUN')).mean().reset_index()\n",
        "df_weekly_weather = df_weekly_weather.set_index(\"date\")\n",
        "df_weekly_weather"
      ],
      "metadata": {
        "id": "7pKIgqDW-LEl"
      },
      "execution_count": null,
      "outputs": []
    },
    {
      "cell_type": "markdown",
      "source": [
        "DataFrameを結合する。\n",
        "\n",
        "`index`つまり`date`が共通の列だけを結合した新たなDataFrameを作る。"
      ],
      "metadata": {
        "id": "nqpUQDLK-KTn"
      }
    },
    {
      "cell_type": "code",
      "source": [
        "# 2つのdfでindexが共通の列だけを結合する\n",
        "df_concat = pd.concat([df_trends, df_weekly_weather], axis=1, join=\"inner\")\n",
        "df_concat"
      ],
      "metadata": {
        "id": "-R8EdmxStsiD"
      },
      "execution_count": null,
      "outputs": []
    },
    {
      "cell_type": "markdown",
      "source": [
        "\n",
        "それぞれの変数をプロットしてみる。"
      ],
      "metadata": {
        "id": "vT9VnvQMqPFD"
      }
    },
    {
      "cell_type": "code",
      "source": [
        "df_concat.plot(subplots=True)"
      ],
      "metadata": {
        "id": "4TdeSOAQ0udj"
      },
      "execution_count": null,
      "outputs": []
    },
    {
      "cell_type": "markdown",
      "source": [
        "matplotlibのラッパーである`seaborn`ライブラリを使って、\n",
        "\n",
        "すべての組み合わせの2変数で散布図を作成できる。"
      ],
      "metadata": {
        "id": "2LUtaEKIyHKY"
      }
    },
    {
      "cell_type": "code",
      "source": [
        "sns.pairplot(df_concat)"
      ],
      "metadata": {
        "id": "ur3I333px5md"
      },
      "execution_count": null,
      "outputs": []
    },
    {
      "cell_type": "markdown",
      "source": [
        "散布図を描くことで、2変数がどのように関係しているか直感的に確認できる。\n",
        "\n",
        "この図をもとに考察してもよい。"
      ],
      "metadata": {
        "id": "a-K-BSFCxstF"
      }
    },
    {
      "cell_type": "markdown",
      "source": [
        "これらの相関係数を求める。\n",
        "\n",
        "3変数以上ある場合にも、相互に相関係数を求められる。"
      ],
      "metadata": {
        "id": "bNwfXXKVt6Xs"
      }
    },
    {
      "cell_type": "code",
      "source": [
        "corr = df_concat.corr()\n",
        "sns.heatmap(corr, vmax=1, vmin=-1, center=0,\n",
        "            cmap=\"seismic\", square=True, annot=True)"
      ],
      "metadata": {
        "id": "28c2rk0xt-ix"
      },
      "execution_count": null,
      "outputs": []
    },
    {
      "cell_type": "markdown",
      "source": [
        "今回は、`鍋`の検索数と最大気温`maxtemp`に着目する。\n",
        "\n",
        "最大気温が上がると鍋の検索数が減る強い負の相関がある。"
      ],
      "metadata": {
        "id": "976_WVZrxj4a"
      }
    },
    {
      "cell_type": "markdown",
      "source": [
        "# 単回帰分析\n",
        "\n",
        "任意の1変数を目的変数(y軸)、別の任意の1変数を説明変数(x軸)として、\n",
        "\n",
        "単回帰分析を行う。\n",
        "\n",
        "まず、機械学習のためのライブラリscikit-learnから\n",
        "\n",
        "単回帰分析のためのモジュールを読み込む。"
      ],
      "metadata": {
        "id": "pwGmfPcuuRfx"
      }
    },
    {
      "cell_type": "code",
      "source": [
        "from sklearn import linear_model"
      ],
      "metadata": {
        "id": "-2MiGPEW1Q8B"
      },
      "execution_count": null,
      "outputs": []
    },
    {
      "cell_type": "code",
      "source": [
        "clf = linear_model.LinearRegression()\n",
        "X = df_concat[[\"maxtemp\"]]\n",
        "Y = df_concat[[\"鍋\"]]\n",
        "clf.fit(X, Y)\n",
        "\n",
        "print(\"回帰係数: \" + str(clf.coef_))\n",
        "print(\"切片: \" + str(clf.intercept_))\n",
        "print(\"決定係数: \" + str(clf.score(X, Y)))"
      ],
      "metadata": {
        "id": "5i7bM-nj1aVK"
      },
      "execution_count": null,
      "outputs": []
    },
    {
      "cell_type": "markdown",
      "source": [
        "ある程度の決定係数があるため、このモデルでは目的変数を説明変数である程度説明できている。"
      ],
      "metadata": {
        "id": "k8F4TUxjyEo-"
      }
    },
    {
      "cell_type": "markdown",
      "source": [
        "回帰直線を散布図に重ねて描くと以下のようになる。"
      ],
      "metadata": {
        "id": "ssPXRcZe2m11"
      }
    },
    {
      "cell_type": "code",
      "source": [
        "sns.lmplot(x=\"maxtemp\", y=\"鍋\", data=df_concat)"
      ],
      "metadata": {
        "id": "wZe-o3jEwWPy"
      },
      "execution_count": null,
      "outputs": []
    },
    {
      "cell_type": "markdown",
      "source": [
        "グラフからも、おおむね回帰直線に沿ってデータがあることがわかる。"
      ],
      "metadata": {
        "id": "SGCWI1kzyMJ2"
      }
    }
  ]
}
