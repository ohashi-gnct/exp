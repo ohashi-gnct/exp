{
  "nbformat": 4,
  "nbformat_minor": 0,
  "metadata": {
    "colab": {
      "name": "SIR のコピー",
      "provenance": [],
      "collapsed_sections": [],
      "authorship_tag": "ABX9TyNcAt1Nk9XvlcUvJEulYqij",
      "include_colab_link": true
    },
    "kernelspec": {
      "name": "python3",
      "display_name": "Python 3"
    },
    "language_info": {
      "name": "python"
    }
  },
  "cells": [
    {
      "cell_type": "markdown",
      "metadata": {
        "id": "view-in-github",
        "colab_type": "text"
      },
      "source": [
        "<a href=\"https://colab.research.google.com/github/ohashi-gnct/exp/blob/2022/SIR.ipynb\" target=\"_parent\"><img src=\"https://colab.research.google.com/assets/colab-badge.svg\" alt=\"Open In Colab\"/></a>"
      ]
    },
    {
      "cell_type": "code",
      "metadata": {
        "id": "71a3CCWIc_0F"
      },
      "source": [
        "import numpy as np\n",
        "import pandas as pd\n",
        "import matplotlib.pyplot as plt\n",
        "import sys\n",
        "import csv\n",
        "from ipywidgets import interact"
      ],
      "execution_count": null,
      "outputs": []
    },
    {
      "cell_type": "markdown",
      "metadata": {
        "id": "c4OQopgvhxV1"
      },
      "source": [
        "## CR回路の過渡現象の解析"
      ]
    },
    {
      "cell_type": "code",
      "metadata": {
        "id": "otnN9TybppJP"
      },
      "source": [
        "# 素子値\n",
        "R = 1000\n",
        "C = 0.001\n",
        "E = 1\n",
        "max_t = 5\n",
        "dt = 0.1\n",
        "\n",
        "# 空の配列を作成\n",
        "time = np.arange(0, max_t, dt)\n",
        "data = []\n",
        "\n",
        "# 近似解の計算\n",
        "for t in time:\n",
        "  if t == 0:\n",
        "    VC = E\n",
        "  else:\n",
        "    # TODO: dVC/dtの微分方程式を参考に入力\n",
        "    dVC_dt = \n",
        "    # dVC/dt * ステップ幅(dt)でVCの変化量dVCとなる\n",
        "    # TODO: もとのVCに変化量をたせば新しいVCとなる\n",
        "    VC = \n",
        "\n",
        "  # 配列に要素を追加\n",
        "  data.append(VC)\n",
        "\n",
        "# TODO: 結果の表示。plt.plot()を使う\n"
      ],
      "execution_count": null,
      "outputs": []
    },
    {
      "cell_type": "markdown",
      "metadata": {
        "id": "_zDtuAZGh1s2"
      },
      "source": [
        "## 感染症モデル"
      ]
    },
    {
      "cell_type": "code",
      "metadata": {
        "id": "JBhgTmzAOXzc"
      },
      "source": [
        "# S: 未感染者数\n",
        "# I: 感染中の患者数\n",
        "# R: 免疫を有している患者数\n",
        "# D: 感染期間(感染してから免疫ができるまで, int)\n",
        "# B: 1回の接触で感染する確率(%で入力)\n",
        "# k: 1週間に感染者と未感染者が接触する回数(int)\n",
        "\n",
        "def SIR(I0=1, R0=0, k=10):\n",
        "  #---------引数の設定\n",
        "  S0 = 1001-R0-I0\n",
        "  D = 1\n",
        "  B = 0.00025\n",
        "  w = 15\n",
        "  step = 0.1\n",
        "\n",
        "  #---------週ごとの各パラメータの計算\n",
        "  #-----計算結果を格納する配列の作成\n",
        "  data = np.ones([int(w/step)+1,4])\n",
        "\n",
        "  #-----dw = 1として計算\n",
        "  for i in range(int(w/step)+1):\n",
        "\n",
        "    #-----初期設定\n",
        "    if i == 0:\n",
        "      S = S0\n",
        "      I = I0\n",
        "      R = R0\n",
        "\n",
        "    else:\n",
        "      dS_dt = # TODO: ここを入力\n",
        "      dI_dt = # TODO: ここを入力\n",
        "      dR_dt = # TODO: ここを入力\n",
        "\n",
        "      S = # TODO: ここを入力\n",
        "      I = # TODO: ここを入力\n",
        "      R = # TODO: ここを入力\n",
        "\n",
        "    #-----計算結果を配列に代入\n",
        "    data[i,0] = i\n",
        "    data[i,1] = S\n",
        "    data[i,2] = I\n",
        "    data[i,3] = R\n",
        "\n",
        "  data[:,0] = data[:,0] * step\n",
        "\n",
        "#-----------estimete basic reproductive number\n",
        "  RR = B * k * D * S0\n",
        "\n",
        "#-----------結果の表示\n",
        "  fig1 = plt.figure(figsize=(14,7),dpi = 70)\n",
        "  plt.rc('xtick')\n",
        "  plt.rc('ytick')\n",
        "  ax1 = fig1.add_subplot(1,1,1)\n",
        "\n",
        "  ax1.plot(data[:,0],data[:,1],'-r.',label = 'S')\n",
        "  ax1.plot(data[:,0],data[:,2],'-b.',label = 'I')\n",
        "  ax1.plot(data[:,0],data[:,3],'-m.',label = 'R')\n",
        "  ax1.set_xlim([0,w+1])\n",
        "  ax1.set_ylim([0,1001])\n",
        "  ax1.set_xlabel('Weeks',fontsize=20)\n",
        "  ax1.set_ylabel('Population', fontsize=20)\n",
        "  #ax1.yaxis.set_label_coords(-0.17, 0.5)\n",
        "  FNM = 'SIR model(R0=' + str(R0) + ',B=' + str(B*100) + '%,D=' + str(D) + 'weeks,k=' + str(k) + 'times, cal_step=' + str(step) +'week)'\n",
        "  ax1.set_title(FNM, fontsize = 20)\n",
        "  ax1.grid(color='k', linestyle='--', linewidth=0.5)\n",
        "  fig1.legend(fontsize = 18)\n",
        "  # グラフ全体を表示するようにする\n",
        "  plt.tight_layout()\n",
        "\n",
        "interact(SIR, I0=(1,100), R0=(0,1000), k=(1,30))"
      ],
      "execution_count": null,
      "outputs": []
    },
    {
      "cell_type": "code",
      "metadata": {
        "id": "9PjSDIXt17OK"
      },
      "source": [
        ""
      ],
      "execution_count": null,
      "outputs": []
    }
  ]
}