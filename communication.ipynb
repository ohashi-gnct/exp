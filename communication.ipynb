{
  "nbformat": 4,
  "nbformat_minor": 0,
  "metadata": {
    "colab": {
      "name": "communication",
      "provenance": [],
      "authorship_tag": "ABX9TyNZIlB5y9NuYpkB5RwgU3x8",
      "include_colab_link": true
    },
    "kernelspec": {
      "name": "python3",
      "display_name": "Python 3"
    },
    "language_info": {
      "name": "python"
    }
  },
  "cells": [
    {
      "cell_type": "markdown",
      "metadata": {
        "id": "view-in-github",
        "colab_type": "text"
      },
      "source": [
        "<a href=\"https://colab.research.google.com/github/ohashi-gnct/exp/blob/2022/communication.ipynb\" target=\"_parent\"><img src=\"https://colab.research.google.com/assets/colab-badge.svg\" alt=\"Open In Colab\"/></a>"
      ]
    },
    {
      "cell_type": "code",
      "execution_count": null,
      "metadata": {
        "id": "njXGRYq87OKt"
      },
      "outputs": [],
      "source": [
        "import numpy as np\n",
        "import matplotlib.pyplot as plt\n",
        "from ipywidgets import interact\n",
        "pi = np.pi"
      ]
    },
    {
      "cell_type": "markdown",
      "source": [
        "## 3.1 離散フーリエ変換\n",
        "\n",
        "振幅がpeak-to-peakで2の方形波となる配列を作成する。\n",
        "\n",
        "\n",
        "\n"
      ],
      "metadata": {
        "id": "shc86O0w7aZk"
      }
    },
    {
      "cell_type": "code",
      "source": [
        "N = 256\n",
        "t = np.arange(256)\n",
        "rectwave = np.zeros(256)\n",
        "for i in t:\n",
        "  if i < (N / 2):\n",
        "    rectwave[i] = 1\n",
        "  else:\n",
        "    rectwave[i] = -1\n",
        "\n",
        "plt.plot(rectwave)"
      ],
      "metadata": {
        "id": "eu4adE6I7iHH"
      },
      "execution_count": null,
      "outputs": []
    },
    {
      "cell_type": "markdown",
      "source": [
        "\n",
        "```\n",
        "numpy.arange([start, ]stop, [step])\n",
        "```\n",
        "Return evenly spaced values within a given interval.\n",
        "Values are generated within the half-open interval `[start, stop) `\n",
        "\n",
        "Parameters:\n",
        "\n",
        "- `start`: Start of interval 指定しないとき0\n",
        "- `stop`: End of interval\n",
        "- `step`: Spacing between values. `out[i+1] - out[i]`\n",
        "\n",
        "```\n",
        "numpy.zeros(shape)\n",
        "```\n",
        "Return a new array of given shape and type, filled with zeros.\n",
        "\n",
        "Parameters:\n",
        "\n",
        "- `shape`: Shape of the new array, e.g., `(2, 3)` or `2`.\n",
        "\n",
        "```\n",
        "matplotlib.pyplot.plot([x], y, [fmt, ] [ls])\n",
        "```\n",
        "Plot y versus x as lines and/or markers.\n",
        "\n",
        "Parameters:\n",
        "\n",
        "- `x, y`: The horizontal / vertical coordinates of the data points. x values are optional and default to range(len(y)).\n",
        "- `fmt`: A format string, e.g. `ro` for red circles.\n",
        "- `ls`: Set the linestyle of the line, e.g. `\"\"` for draw nothing.\n",
        "\n",
        "\n",
        "\n",
        "次に、係数$c_0$を求める。\n",
        "\n",
        "$c_k$は以下のように求められるから、これをプログラムにする。\n",
        "\n",
        "$$\n",
        "c_k = \\frac{1}{N}\\sum_{i=0}^{N-1} f[i] e^{-j\\frac{2\\pi k}{N}i} \\,\\,\\,(k= 0, 1, \\ldots, N-1)\n",
        "$$"
      ],
      "metadata": {
        "id": "f7igs59K_Eks"
      }
    },
    {
      "cell_type": "code",
      "source": [
        "def calc_ck(f, N, k):\n",
        "  ck = 0\n",
        "  for i in range(N):\n",
        "    ck += f[i] * np.exp(-1j * (2 * np.pi * k / N) * i)\n",
        "  ck /= N\n",
        "  return(ck)"
      ],
      "metadata": {
        "id": "J7WFZvTV8Wck"
      },
      "execution_count": null,
      "outputs": []
    },
    {
      "cell_type": "markdown",
      "source": [
        "Pythonで虚数単位`j`を使うときは、`1j`と表記することに注意\n",
        "\n",
        "\n",
        "```\n",
        "def 関数名(引数):\n",
        "  処理\n",
        "  return(戻り値)\n",
        "```\n",
        "\n",
        "`def`は関数の定義を意味する。このに記述すると、関数の定義ができる。\n",
        "\n",
        "引数の型は指定する必要がない。戻り値はなくてもよい。\n",
        "\n",
        "\n",
        "```\n",
        "numpy.exp(x)\n",
        "```\n",
        "\n",
        "Calculate the exponential of all elements in the input array.\n",
        "\n",
        "Parameters:\n",
        "\n",
        "- `x`: Input values.\n",
        "\n",
        "\n"
      ],
      "metadata": {
        "id": "sQXw7zYZBMHH"
      }
    },
    {
      "cell_type": "code",
      "source": [
        "c0 = calc_ck(rectwave, N, 0)\n",
        "print(c0)"
      ],
      "metadata": {
        "colab": {
          "base_uri": "https://localhost:8080/"
        },
        "id": "7w647Qj3A5j8",
        "outputId": "dee6a954-6428-40b6-94ba-62e17208b55d"
      },
      "execution_count": null,
      "outputs": [
        {
          "output_type": "stream",
          "name": "stdout",
          "text": [
            "(0.007812500000000092-0.6365878141136424j)\n"
          ]
        }
      ]
    },
    {
      "cell_type": "markdown",
      "source": [
        "`c_0`から`c_5`までの係数を求め、横軸を周波数、それぞれの係数の絶対値を縦軸としたグラフを作成する。"
      ],
      "metadata": {
        "id": "gXxTfAwjCF2K"
      }
    },
    {
      "cell_type": "code",
      "source": [
        "# TODO: グラフを表示するプログラムを考える\n",
        "c = []\n",
        "for i in range(6):\n",
        "  c.append(\n",
        "      \n",
        "  )\n",
        "\n",
        "plt.plot(c)"
      ],
      "metadata": {
        "id": "Hvgy9HT2BCl0"
      },
      "execution_count": null,
      "outputs": []
    },
    {
      "cell_type": "markdown",
      "source": [
        "以下の関数を必要に応じて使用すること。\n",
        "```\n",
        "numpy.abs(x)\n",
        "```\n",
        "\n",
        "Calculate the absolute value element-wise.\n",
        "\n",
        "\n",
        "Parameters:\n",
        "\n",
        "- `x`: Input array.\n",
        "\n",
        "リストも活用できる。以下の資料でリストに使えるメソッドが紹介されている。\n",
        "\n",
        "[2-2. リスト (list) — Pythonプログラミング入門 documentation](https://utokyo-ipp.github.io/2/2-2.html#%E3%83%AA%E3%82%B9%E3%83%88%E3%82%92%E6%93%8D%E4%BD%9C%E3%81%99%E3%82%8B%E3%83%A1%E3%82%BD%E3%83%83%E3%83%89%E3%81%AA%E3%81%A9)"
      ],
      "metadata": {
        "id": "8xxun5wuDIR-"
      }
    },
    {
      "cell_type": "markdown",
      "source": [
        "方形波と同じ要領で三角波を作成し、係数をグラフとして表示する。"
      ],
      "metadata": {
        "id": "P5l3bdE7EiUE"
      }
    },
    {
      "cell_type": "code",
      "source": [
        "N = 256\n",
        "t = np.arange(256)\n",
        "triwave = np.zeros(256)\n",
        "\n",
        "# TODO: 三角波のプログラムを考える\n",
        "\n",
        "\n",
        "plt.plot(triwave)"
      ],
      "metadata": {
        "id": "t691CrsOCyBo"
      },
      "execution_count": null,
      "outputs": []
    },
    {
      "cell_type": "markdown",
      "source": [
        "三角波のプログラムがどうしてもわからない場合、14:00に正解を提示します。"
      ],
      "metadata": {
        "id": "yvUxv2uMZCzH"
      }
    },
    {
      "cell_type": "code",
      "source": [
        "c0 = calc_ck(triwave, N, 0)\n",
        "print(c0)"
      ],
      "metadata": {
        "id": "JXCfeLmSFFge"
      },
      "execution_count": null,
      "outputs": []
    },
    {
      "cell_type": "code",
      "source": [
        "# TODO: 上で作成したグラフを表示するプログラムを活用し、\n",
        "# 三角波の各係数のグラフを表示する\n",
        "\n"
      ],
      "metadata": {
        "id": "xXG0CkaNFHDz"
      },
      "execution_count": null,
      "outputs": []
    },
    {
      "cell_type": "markdown",
      "source": [
        "## 3.2 離散フーリエ変換\n",
        "\n",
        "上でそれぞれの係数を計算したが、関数を使って係数を一気に計算する。\n",
        "\n",
        "ここでは係数は絶対値でなく、複素数をそのまま用いる。\n",
        "\n",
        "まずは方形波から"
      ],
      "metadata": {
        "id": "SSzl8o1cFURy"
      }
    },
    {
      "cell_type": "code",
      "source": [
        "c_rect = np.zeros(N, dtype=np.complex128)\n",
        "for i in range(N):\n",
        "  c_rect[i] = calc_ck(rectwave, N, i)\n",
        "\n",
        "print(c_rect)"
      ],
      "metadata": {
        "id": "scN6UI1cFmcn"
      },
      "execution_count": null,
      "outputs": []
    },
    {
      "cell_type": "markdown",
      "source": [
        "`c_29`までの係数を実部と虚部に分けてグラフにしてみる。\n"
      ],
      "metadata": {
        "id": "EmXtBXNaHaKJ"
      }
    },
    {
      "cell_type": "code",
      "source": [
        "# TODO: c_0からc_29までの係数のうち、実部をグラフとして表示する。\n",
        "\n"
      ],
      "metadata": {
        "id": "oE_aI4H4Gvet"
      },
      "execution_count": null,
      "outputs": []
    },
    {
      "cell_type": "markdown",
      "source": [
        "必要に応じて以下の関数を使う。\n",
        "\n",
        "```\n",
        "numpy.real(val)\n",
        "```\n",
        "\n",
        "Return the real part of the complex argument.\n",
        "\n",
        "\n",
        "\n",
        "Parameters:\n",
        "\n",
        "- `val`: Input array.\n",
        "\n",
        "また、配列のうち範囲を指定して取り出すにはスライスを利用する。\n",
        "\n",
        "以下にスライスの説明がある。\n",
        "\n",
        "[2-1. 文字列 (string) — Pythonプログラミング入門 documentation](https://utokyo-ipp.github.io/2/2-1.html#%E6%96%87%E5%AD%97%E5%88%97%E3%81%A8%E3%82%B9%E3%83%A9%E3%82%A4%E3%82%B9)\n",
        "\n",
        "次に、虚部をグラフとして表示する。"
      ],
      "metadata": {
        "id": "d6mqcLG-I21G"
      }
    },
    {
      "cell_type": "code",
      "source": [
        "# TODO: c_0からc_29までの係数のうち、虚部をグラフとして表示する。\n",
        "\n"
      ],
      "metadata": {
        "id": "vNp_P7YdJOl-"
      },
      "execution_count": null,
      "outputs": []
    },
    {
      "cell_type": "markdown",
      "source": [
        "必要に応じて以下の関数を使う。\n",
        "\n",
        "```\n",
        "numpy.imag(val)\n",
        "```\n",
        "\n",
        "Return the imaginary part of the complex argument.\n",
        "\n",
        "\n",
        "\n",
        "Parameters:\n",
        "\n",
        "- `val`: Input array."
      ],
      "metadata": {
        "id": "8ncz-tBRJUVT"
      }
    },
    {
      "cell_type": "markdown",
      "source": [
        "三角波についても、同様の操作を行う。"
      ],
      "metadata": {
        "id": "ZmisONhEN2wT"
      }
    },
    {
      "cell_type": "code",
      "source": [
        "c_tri = np.zeros(N, dtype=np.complex128)\n",
        "\n",
        "# TODO: 三角波のc_0からc_29までの係数のうち、\n",
        "# 実部をグラフとして表示する。\n",
        "\n"
      ],
      "metadata": {
        "id": "t2y5JtwTOHck"
      },
      "execution_count": null,
      "outputs": []
    },
    {
      "cell_type": "code",
      "source": [
        "# TODO: 虚部も同様にグラフにする。\n"
      ],
      "metadata": {
        "id": "cj7x_adMOeGq"
      },
      "execution_count": null,
      "outputs": []
    },
    {
      "cell_type": "markdown",
      "source": [
        "## 3.3 逆離散フーリエ変換\n",
        "\n",
        "計算した$c$から、波形を復元するための関数を作成する。"
      ],
      "metadata": {
        "id": "_AEiG9-5OsxR"
      }
    },
    {
      "cell_type": "code",
      "source": [
        "def calc_fi(c, N, i, k_limit = 256):\n",
        "  fi = 0\n",
        "  for k in range(k_limit):\n",
        "    # TODO: calc_ck()関数を参考に、関数の中身を記述する。\n",
        "    fi += \n",
        "\n",
        "  return fi"
      ],
      "metadata": {
        "id": "Hx8uKag6PYK8"
      },
      "execution_count": null,
      "outputs": []
    },
    {
      "cell_type": "markdown",
      "source": [
        "この関数に方形波から計算した$c$を入力し、波形を復元する。"
      ],
      "metadata": {
        "id": "Kl8bvr1TQjp8"
      }
    },
    {
      "cell_type": "code",
      "source": [
        "rect_decoded = np.zeros(N)\n",
        "\n",
        "for i in range(N):\n",
        "  rect_decoded[i] = calc_fi(c_rect, N, i)\n",
        "\n",
        "plt.plot(rect_decoded)"
      ],
      "metadata": {
        "id": "sWuKOIHFQiJX"
      },
      "execution_count": null,
      "outputs": []
    },
    {
      "cell_type": "markdown",
      "source": [
        "では、復元に使う$c$をある程度の範囲に制限するとどうなるだろうか。\n",
        "\n",
        "以下を実行し、スライダーを動かすと係数の範囲を制限できる。"
      ],
      "metadata": {
        "id": "954s-mU7R1p6"
      }
    },
    {
      "cell_type": "code",
      "source": [
        "def plot_decoded_rect_waveform(k_limit = 30):\n",
        "  decoded = np.zeros(N)\n",
        "  for i in range(N):\n",
        "    decoded[i] = calc_fi(c_rect, N, i, k_limit = k_limit)\n",
        "  plt.plot(decoded)\n",
        "\n",
        "interact(plot_decoded_rect_waveform, k_limit = (1, 50))"
      ],
      "metadata": {
        "id": "5-Jiqyr9SH0V"
      },
      "execution_count": null,
      "outputs": []
    },
    {
      "cell_type": "markdown",
      "source": [
        "三角波についても、同様に波形を復元する。"
      ],
      "metadata": {
        "id": "kHvqkc_KUKCG"
      }
    },
    {
      "cell_type": "code",
      "source": [
        "tri_decoded = np.zeros(N)\n",
        "\n",
        "for i in range(N):\n",
        "  tri_decoded[i] = calc_fi(c_tri, N, i)\n",
        "\n",
        "plt.plot(tri_decoded)"
      ],
      "metadata": {
        "id": "ME1eNfHtUNCc"
      },
      "execution_count": null,
      "outputs": []
    },
    {
      "cell_type": "code",
      "source": [
        "def plot_decoded_tri_waveform(k_limit = 30):\n",
        "  decoded = np.zeros(N)\n",
        "  for i in range(N):\n",
        "    decoded[i] = calc_fi(c_tri, N, i, k_limit = k_limit)\n",
        "  plt.plot(decoded)\n",
        "\n",
        "interact(plot_decoded_rect_waveform, k_limit = (1, 50))"
      ],
      "metadata": {
        "id": "sRBtOWciUaKe"
      },
      "execution_count": null,
      "outputs": []
    },
    {
      "cell_type": "markdown",
      "source": [
        "## 3.4 振幅変調\n",
        "\n",
        "信号波として周波数$f_s$のcos波を振幅変調すると、以下の式となる。\n",
        "\n",
        "以下の数式をプログラムにし、離散フーリエ変換を行って$c$の絶対値を$c_{30}$くらいまで表示する。\n",
        "\n",
        "$$ V_{AM}[i]=\\left(1+m_a \\cos{(2\\pi i f_s /N)}\\right)\\cos{(2\\pi f_c i/N)} \\,\\,\\,(i=0, 1, \\ldots , 255) $$\n",
        "\n",
        "ただし、搬送波の周波数$ f_c=10, N=256$とする。\n",
        "\n",
        "その他のパラメータは適切に変更し、変化を確認する。\n"
      ],
      "metadata": {
        "id": "s_5aP2dSUtm9"
      }
    },
    {
      "cell_type": "code",
      "source": [
        "fc = 10\n",
        "N = 256\n",
        "fs = 2 # 信号波の周波数。変更して変化を確認する\n",
        "ma = 0.9 # 変調度。変更して変化を確認する\n",
        "\n",
        "# TODO: V_AMがAM波形となるように値を代入する\n",
        "V_AM = np.zeros(N)\n",
        "\n",
        "\n",
        "plt.plot(V_AM)"
      ],
      "metadata": {
        "id": "xjS1XQhvVJKv"
      },
      "execution_count": null,
      "outputs": []
    },
    {
      "cell_type": "markdown",
      "source": [
        "必要に応じて以下の関数を使う。\n",
        "\n",
        "```\n",
        "numpy.cos(x)\n",
        "```\n",
        "\n",
        "Cosine element-wise.\n",
        "\n",
        "\n",
        "Parameters:\n",
        "\n",
        "- `x`: Input array in radians.\n"
      ],
      "metadata": {
        "id": "WB_0H68rX2Qb"
      }
    },
    {
      "cell_type": "code",
      "source": [
        "# TODO: 係数を求める\n",
        "c_AM = \n",
        "for i in range(N):\n",
        "  c_AM[i] = \n",
        "\n",
        "# TODO: グラフとして表示する\n",
        "\n"
      ],
      "metadata": {
        "id": "WE1GKHX6W7Rb"
      },
      "execution_count": null,
      "outputs": []
    },
    {
      "cell_type": "markdown",
      "source": [
        "FM波形に対しても同様にパワースペクトルを表示する。\n",
        "\n",
        "信号波として周波数$f_s$のcos波を周波数変調すると、以下の式となる。\n",
        "\n",
        "$$ V_{FM}[i]=\\cos{(2\\pi i f_c/N+\\beta \\sin{(2\\pi i f_s/N)})} \\,\\,\\,(i=0, 1, \\ldots , 255)$$\n",
        "\n",
        "周波数変調した波形について、離散フーリエ変換を行いパワースペクトルを図示する。\n",
        "\n",
        "ただし、搬送波の周波数$ f_c=10, N=256$ とする。\n",
        "\n",
        "その他のパラメータは適切に変更し、変化を確認する。\n"
      ],
      "metadata": {
        "id": "ufJ3gktHXRRo"
      }
    },
    {
      "cell_type": "code",
      "source": [
        "# TODO: FM波形を表示し、パワースペクトルもグラフにする\n",
        "\n"
      ],
      "metadata": {
        "id": "C4LI8UeXXleB"
      },
      "execution_count": null,
      "outputs": []
    }
  ]
}