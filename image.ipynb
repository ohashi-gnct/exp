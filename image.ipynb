{
  "nbformat": 4,
  "nbformat_minor": 0,
  "metadata": {
    "colab": {
      "provenance": [],
      "authorship_tag": "ABX9TyPH2DggWAsBiLEAL0qJUKBe",
      "include_colab_link": true
    },
    "kernelspec": {
      "name": "python3",
      "display_name": "Python 3"
    },
    "language_info": {
      "name": "python"
    }
  },
  "cells": [
    {
      "cell_type": "markdown",
      "metadata": {
        "id": "view-in-github",
        "colab_type": "text"
      },
      "source": [
        "<a href=\"https://colab.research.google.com/github/ohashi-gnct/exp/blob/2023/image.ipynb\" target=\"_parent\"><img src=\"https://colab.research.google.com/assets/colab-badge.svg\" alt=\"Open In Colab\"/></a>"
      ]
    },
    {
      "cell_type": "markdown",
      "source": [
        "## 3.1 実験準備"
      ],
      "metadata": {
        "id": "6sWJv7XSD3bY"
      }
    },
    {
      "cell_type": "code",
      "execution_count": null,
      "metadata": {
        "id": "RvOsYDkF30Bp"
      },
      "outputs": [],
      "source": [
        "# 必要なライブラリのインポート\n",
        "\n",
        "import os\n",
        "\n",
        "from IPython.display import Image, display\n",
        "\n",
        "import cv2\n",
        "import numpy as np\n",
        "import matplotlib.pyplot as plt\n",
        "import seaborn as sns\n",
        "\n",
        "%matplotlib inline"
      ]
    },
    {
      "cell_type": "markdown",
      "source": [
        "matplotlibで日本語を使うために、ライブラリをインストールしてインポートする。"
      ],
      "metadata": {
        "id": "iXkknJC3DtqI"
      }
    },
    {
      "cell_type": "code",
      "source": [
        "!pip install japanize-matplotlib"
      ],
      "metadata": {
        "id": "5HauQOlG83TI"
      },
      "execution_count": null,
      "outputs": []
    },
    {
      "cell_type": "code",
      "source": [
        "# matplotlibの日本語化\n",
        "import japanize_matplotlib\n",
        "sns.set(font=\"IPAexGothic\")\n",
        "# 軸ラベル等の文字サイズを大きくする\n",
        "sns.set_context('talk')"
      ],
      "metadata": {
        "id": "DRHrLrqK85vF"
      },
      "execution_count": null,
      "outputs": []
    },
    {
      "cell_type": "markdown",
      "source": [
        "Googleドライブを接続し、実験結果等を自分のドライブに保存できるようにする。\n",
        "\n",
        "認証を求める画面が出る場合がある。"
      ],
      "metadata": {
        "id": "yiGf0Onr381H"
      }
    },
    {
      "cell_type": "code",
      "source": [
        "# Googleドライブの接続\n",
        "from google.colab import drive\n",
        "drive.mount('/content/drive', force_remount=True)\n",
        "drive_path = '/content/drive/MyDrive'"
      ],
      "metadata": {
        "id": "qXZi8Cq_3497"
      },
      "execution_count": null,
      "outputs": []
    },
    {
      "cell_type": "markdown",
      "source": [
        "画像をダウンロードする。"
      ],
      "metadata": {
        "id": "b2g4HIK94FXn"
      }
    },
    {
      "cell_type": "code",
      "source": [
        "%cd $drive_path\n",
        "!wget https://www.gifu-nct.ac.jp/elec/ohashi/python/documents/docs/images/image/lena.png"
      ],
      "metadata": {
        "id": "cJEnY9H54bKX"
      },
      "execution_count": null,
      "outputs": []
    },
    {
      "cell_type": "markdown",
      "source": [
        "Googleドライブに`lena.png`が存在することを確認してもよい。\n",
        "\n",
        "ダウンロードした画像を表示する。"
      ],
      "metadata": {
        "id": "eFycJYVF5iCN"
      }
    },
    {
      "cell_type": "code",
      "source": [
        "# 画像を読み込む\n",
        "lena = cv2.imread(os.path.join(drive_path, \"lena.png\"))\n",
        "\n",
        "# 画像を表示する\n",
        "show_lena = cv2.imencode('.png', lena)[1]\n",
        "display(Image(show_lena))"
      ],
      "metadata": {
        "id": "c2Yh3Vis4b18"
      },
      "execution_count": null,
      "outputs": []
    },
    {
      "cell_type": "markdown",
      "source": [
        "画像を表示するための一連のプログラムを**関数**としてまとめておく。\n",
        "\n",
        "これにより、`cv2.imread()`関数で読み込んだ画像`img`を、`show_img(img)`で表示できる。"
      ],
      "metadata": {
        "id": "nfzTL6OJ6eXC"
      }
    },
    {
      "cell_type": "code",
      "source": [
        "def imshow(img):\n",
        "  show_img = cv2.imencode('.png', img)[1]\n",
        "  display(Image(show_img))"
      ],
      "metadata": {
        "id": "HsTtmTo146df"
      },
      "execution_count": null,
      "outputs": []
    },
    {
      "cell_type": "code",
      "source": [
        "inshow(lena)"
      ],
      "metadata": {
        "id": "43B0vmZ767JM"
      },
      "execution_count": null,
      "outputs": []
    },
    {
      "cell_type": "markdown",
      "source": [
        "## 3.2 画像の情報取得"
      ],
      "metadata": {
        "id": "HqBzfIHRD9Pe"
      }
    },
    {
      "cell_type": "code",
      "source": [],
      "metadata": {
        "id": "j6hGUVgm7-Pi"
      },
      "execution_count": null,
      "outputs": []
    },
    {
      "cell_type": "code",
      "source": [],
      "metadata": {
        "id": "I8aOd0lC8CPo"
      },
      "execution_count": null,
      "outputs": []
    },
    {
      "cell_type": "code",
      "source": [],
      "metadata": {
        "id": "TqNJHBib8UWb"
      },
      "execution_count": null,
      "outputs": []
    },
    {
      "cell_type": "code",
      "source": [],
      "metadata": {
        "id": "NH2TCPCa8oCS"
      },
      "execution_count": null,
      "outputs": []
    },
    {
      "cell_type": "code",
      "source": [],
      "metadata": {
        "id": "DrtwClSZ_Qkp"
      },
      "execution_count": null,
      "outputs": []
    },
    {
      "cell_type": "code",
      "source": [],
      "metadata": {
        "id": "Ow5L3zM9_f73"
      },
      "execution_count": null,
      "outputs": []
    },
    {
      "cell_type": "markdown",
      "source": [
        "## 3.3 画像の幾何変換"
      ],
      "metadata": {
        "id": "vlJaHQpBEMcz"
      }
    },
    {
      "cell_type": "code",
      "source": [],
      "metadata": {
        "id": "_YCB6KlQEOvV"
      },
      "execution_count": null,
      "outputs": []
    },
    {
      "cell_type": "code",
      "source": [],
      "metadata": {
        "id": "No2uzGfkEPkR"
      },
      "execution_count": null,
      "outputs": []
    },
    {
      "cell_type": "code",
      "source": [],
      "metadata": {
        "id": "HZ1OyJ5dEP8X"
      },
      "execution_count": null,
      "outputs": []
    },
    {
      "cell_type": "code",
      "source": [],
      "metadata": {
        "id": "wDAppT67EQNA"
      },
      "execution_count": null,
      "outputs": []
    },
    {
      "cell_type": "markdown",
      "source": [
        "## 3.4 線形フィルタ"
      ],
      "metadata": {
        "id": "CEDMfh4oERhx"
      }
    },
    {
      "cell_type": "code",
      "source": [],
      "metadata": {
        "id": "B8-Dal_NETdl"
      },
      "execution_count": null,
      "outputs": []
    },
    {
      "cell_type": "code",
      "source": [],
      "metadata": {
        "id": "TYdYm9J1ETqX"
      },
      "execution_count": null,
      "outputs": []
    },
    {
      "cell_type": "code",
      "source": [],
      "metadata": {
        "id": "AG5eMyU-EUPt"
      },
      "execution_count": null,
      "outputs": []
    }
  ]
}