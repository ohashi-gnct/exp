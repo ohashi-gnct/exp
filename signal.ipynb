{
  "cells": [
    {
      "cell_type": "markdown",
      "metadata": {
        "id": "view-in-github",
        "colab_type": "text"
      },
      "source": [
        "<a href=\"https://colab.research.google.com/github/ohashi-gnct/exp/blob/2022/signal.ipynb\" target=\"_parent\"><img src=\"https://colab.research.google.com/assets/colab-badge.svg\" alt=\"Open In Colab\"/></a>"
      ]
    },
    {
      "cell_type": "code",
      "execution_count": null,
      "metadata": {
        "id": "Eo4tQCTj2_vH"
      },
      "outputs": [],
      "source": [
        "# ライブラリのインポート\n",
        "import os\n",
        "import numpy as np\n",
        "import matplotlib.pyplot as plt\n",
        "from scipy import signal\n",
        "\n",
        "import librosa\n",
        "import librosa.display\n",
        "import soundfile as sf\n",
        "from IPython.display import display, Audio\n",
        "\n",
        "sr = 44100"
      ]
    },
    {
      "cell_type": "markdown",
      "source": [
        "Googleドライブ直下に以下のファイル名でファイルを置く。\n",
        "\n",
        "- `source.wav`: 無響音源\n",
        "- `ir1.wav`: 測定した1つ目の部屋でのインパルス応答\n",
        "- `ir2.wav`: 測定した2つ目の部屋でのインパルス応答\n",
        "- `recordedresponse1.wav`: 無響音源を1つ目の部屋で流して録音したもの\n",
        "- `recordedresponse2.wav`: 無響音源を2つ目の部屋で流して録音したもの\n",
        "\n",
        "\n",
        "これらのファイルをColabで読み込めるようにする。"
      ],
      "metadata": {
        "id": "Zxz-A9GadVKf"
      }
    },
    {
      "cell_type": "code",
      "execution_count": null,
      "metadata": {
        "id": "hGle0SHM-xV6"
      },
      "outputs": [],
      "source": [
        "# Googleドライブの接続\n",
        "from google.colab import drive\n",
        "drive.mount('/content/drive', force_remount=True)\n",
        "drive_path = '/content/drive/MyDrive'"
      ]
    },
    {
      "cell_type": "markdown",
      "metadata": {
        "id": "Rsg-N-MLAxM2"
      },
      "source": [
        "# 3.2 たたみ込みによる音響再現\n",
        "\n",
        "**※3.3の結果が3.2を包含しているため、3.2の実験結果は記述しなくてよい。**\n",
        "\n",
        "まず、波形を表示する関数を用意する。"
      ]
    },
    {
      "cell_type": "code",
      "execution_count": null,
      "metadata": {
        "id": "QYzRNkLsBT8c"
      },
      "outputs": [],
      "source": [
        "# 波形と音源を表示するための関数\n",
        "def show_wave_audio(y, sr):\n",
        "  plt.figure(figsize=(10, 4))\n",
        "  librosa.display.waveplot(y, sr=sr, x_axis='time')\n",
        "  plt.show()\n",
        "  display(Audio(y, rate=sr))"
      ]
    },
    {
      "cell_type": "markdown",
      "source": [
        "無響音源を読み込んで表示する。"
      ],
      "metadata": {
        "id": "_owb7L-tkmwE"
      }
    },
    {
      "cell_type": "code",
      "execution_count": null,
      "metadata": {
        "id": "ZoFecPBL3sO9"
      },
      "outputs": [],
      "source": [
        "# 無響音源の読み込み\n",
        "# ドライブ直下にファイルがある場合、下のように読み込める\n",
        "file_source = \"source.wav\"\n",
        "source, _ = librosa.load(os.path.join(drive_path, file_source), sr=sr)\n",
        "show_wave_audio(source, sr)"
      ]
    },
    {
      "cell_type": "markdown",
      "source": [
        "インパルス応答1を読み込んで表示する。"
      ],
      "metadata": {
        "id": "PxC-qnffkpsu"
      }
    },
    {
      "cell_type": "code",
      "execution_count": null,
      "metadata": {
        "id": "bZsox16s4L2h"
      },
      "outputs": [],
      "source": [
        "# インパルス応答の読み込み\n",
        "file_ir1 = \"ir1.wav\"\n",
        "ir1, _ = librosa.load(os.path.join(drive_path, file_ir1), sr=sr)\n",
        "show_wave_audio(ir1, sr)"
      ]
    },
    {
      "cell_type": "markdown",
      "source": [
        "無響音源とインパルス応答を受け取って、たたみ込みを行った結果を返す関数を作成する。"
      ],
      "metadata": {
        "id": "h5SrkEjfktyx"
      }
    },
    {
      "cell_type": "code",
      "source": [
        "# たたみ込みを行う関数\n",
        "def calc_response(source, ir):\n",
        "  # TODO: たたみ込みのプログラムを考える\n",
        "  response = \n",
        "\n",
        "  # 音を再生するため、サンプルの最大値を1にする\n",
        "  response /= np.amax(response)\n",
        "  return(response)"
      ],
      "metadata": {
        "id": "FM573G2Kf__C"
      },
      "execution_count": null,
      "outputs": []
    },
    {
      "cell_type": "markdown",
      "source": [
        "無響音源とインパルス応答1のたたみ込みを行う。"
      ],
      "metadata": {
        "id": "eONzRlWkk0xs"
      }
    },
    {
      "cell_type": "code",
      "execution_count": null,
      "metadata": {
        "id": "tkIWHjIB5UkI"
      },
      "outputs": [],
      "source": [
        "# たたみ込み\n",
        "show_wave_audio(calc_response(source, ir1), sr)"
      ]
    },
    {
      "cell_type": "markdown",
      "source": [
        "たたみ込みは`scipy.signal.fftconvolve()`でも行うことができる。\n",
        "\n",
        "愚直なたたみ込みより、FFTを使ったたたみ込みのほうが速い。"
      ],
      "metadata": {
        "id": "v0t1m8Imk4DK"
      }
    },
    {
      "cell_type": "code",
      "source": [
        "# FFTを使ったたたみ込み\n",
        "def calc_response_fft(source, ir):\n",
        "  response = signal.fftconvolve(source, ir)\n",
        "  response /= np.amax(response)\n",
        "  return(response)"
      ],
      "metadata": {
        "id": "n5gICtqCiZKC"
      },
      "execution_count": null,
      "outputs": []
    },
    {
      "cell_type": "markdown",
      "source": [
        "たたみ込みの結果は同じになる。"
      ],
      "metadata": {
        "id": "qAd9fEIHlFVq"
      }
    },
    {
      "cell_type": "code",
      "execution_count": null,
      "metadata": {
        "id": "uq0smuFm75SQ"
      },
      "outputs": [],
      "source": [
        "response1 = calc_response_fft(source, ir1)\n",
        "show_wave_audio(response1, sr)"
      ]
    },
    {
      "cell_type": "markdown",
      "source": [
        "この結果を録音したものと比較する。"
      ],
      "metadata": {
        "id": "v5kiayhSn0nX"
      }
    },
    {
      "cell_type": "code",
      "source": [
        "file_recordedresponse1 = \"recordedresponse1.wav\"\n",
        "recordedresponse1, _ = librosa.load(os.path.join(drive_path, \n",
        "                                                 file_recordedresponse1), sr=sr)\n",
        "show_wave_audio(recordedresponse1, sr)"
      ],
      "metadata": {
        "id": "xkm3H4Ktn0yH"
      },
      "execution_count": null,
      "outputs": []
    },
    {
      "cell_type": "markdown",
      "metadata": {
        "id": "6kEMGjfeA479"
      },
      "source": [
        "# 3.3 音声の周波数解析\n",
        "\n",
        "まず、波形、スペクトログラムを同時に表示する関数を用意する。"
      ]
    },
    {
      "cell_type": "code",
      "execution_count": null,
      "metadata": {
        "id": "67GbCTb6A7qe"
      },
      "outputs": [],
      "source": [
        "# 波形とスペクトログラムと音源を表示するための関数\n",
        "def show_wave_spectrogram_audio(y, sr):\n",
        "  fig, [ax1, ax2] = plt.subplots(2, 1, figsize=(12, 10))\n",
        "  S = librosa.feature.melspectrogram(y, sr=sr, n_mels=128)\n",
        "  log_S = librosa.power_to_db(S, ref=np.max)\n",
        "  librosa.display.waveplot(y, sr=sr, x_axis='time', ax=ax1)\n",
        "  librosa.display.specshow(log_S, sr=sr, x_axis='time', y_axis='mel', ax=ax2)\n",
        "  plt.show()\n",
        "  display(Audio(y, rate=sr))"
      ]
    },
    {
      "cell_type": "markdown",
      "source": [
        "無響音源の波形とスペクトログラム"
      ],
      "metadata": {
        "id": "DLo0umzqkLmd"
      }
    },
    {
      "cell_type": "code",
      "execution_count": null,
      "metadata": {
        "id": "KEgy-vvtDcbS"
      },
      "outputs": [],
      "source": [
        "show_wave_spectrogram_audio(source, sr)"
      ]
    },
    {
      "cell_type": "markdown",
      "source": [
        "インパルス応答1の波形とスペクトログラム"
      ],
      "metadata": {
        "id": "c31ORX0wkPrD"
      }
    },
    {
      "cell_type": "code",
      "execution_count": null,
      "metadata": {
        "id": "nkPs3nNwDg8-"
      },
      "outputs": [],
      "source": [
        "show_wave_spectrogram_audio(ir1, sr)"
      ]
    },
    {
      "cell_type": "markdown",
      "source": [
        "無響音源にインパルス応答1を畳み込んだ結果の波形とスペクトログラム"
      ],
      "metadata": {
        "id": "Jtq3f0MJkUyO"
      }
    },
    {
      "cell_type": "code",
      "execution_count": null,
      "metadata": {
        "id": "4lHq4oTCDjRZ"
      },
      "outputs": [],
      "source": [
        "show_wave_spectrogram_audio(response1, sr)"
      ]
    },
    {
      "cell_type": "markdown",
      "source": [
        "無響音源を部屋1で流して録音した波形とスペクトログラム"
      ],
      "metadata": {
        "id": "js2lwzomoO0N"
      }
    },
    {
      "cell_type": "code",
      "source": [
        "show_wave_spectrogram_audio(recordedresponse1, sr)"
      ],
      "metadata": {
        "id": "ae3EzCCnoPGp"
      },
      "execution_count": null,
      "outputs": []
    },
    {
      "cell_type": "markdown",
      "source": [
        "インパルス応答2についても同様に畳み込む。\n",
        "\n",
        "インパルス応答2の波形とスペクトログラム"
      ],
      "metadata": {
        "id": "l9wCNNdYlbPp"
      }
    },
    {
      "cell_type": "code",
      "source": [
        "# インパルス応答の読み込み\n",
        "file_ir2 = \"ir2.wav\"\n",
        "ir2, _ = librosa.load(os.path.join(drive_path, file_ir2), sr=sr)\n",
        "\n",
        "show_wave_spectrogram_audio(ir2, sr)"
      ],
      "metadata": {
        "id": "Bd0voBNClbBs"
      },
      "execution_count": null,
      "outputs": []
    },
    {
      "cell_type": "markdown",
      "source": [
        "無響音源にインパルス応答2を畳み込んだ結果の波形とスペクトログラム"
      ],
      "metadata": {
        "id": "FgJ3idzqlxZS"
      }
    },
    {
      "cell_type": "code",
      "source": [
        "response2 = calc_response_fft(source, ir1)\n",
        "show_wave_spectrogram_audio(response2, sr)"
      ],
      "metadata": {
        "id": "nCCyarQjlrZI"
      },
      "execution_count": null,
      "outputs": []
    },
    {
      "cell_type": "markdown",
      "source": [
        "無響音源を部屋2流して録音した波形とスペクトログラム"
      ],
      "metadata": {
        "id": "oGbBZZwcosvN"
      }
    },
    {
      "cell_type": "code",
      "source": [
        "# インパルス応答の読み込み\n",
        "file_recordedresponse2 = \"recordedresponse2.wav\"\n",
        "recordedresponse2, _ = librosa.load(os.path.join(drive_path, \n",
        "                                                 file_recordedresponse2), sr=sr)\n",
        "show_wave_spectrogram_audio(recordedresponse2, sr)"
      ],
      "metadata": {
        "id": "vq76Ktgaoveo"
      },
      "execution_count": null,
      "outputs": []
    },
    {
      "cell_type": "markdown",
      "source": [
        "# おまけ\n",
        "\n",
        "極端に高周波が響かないインパルス応答を人工的に作ってみる\n",
        "\n",
        "ここではsinc関数を作る。\n",
        "\n",
        "$$\n",
        "\\rm{sinc}(x) = \\frac{\\sin{(x)}}{x}$$"
      ],
      "metadata": {
        "id": "hVjNASvnfUe4"
      }
    },
    {
      "cell_type": "code",
      "execution_count": null,
      "metadata": {
        "id": "syXqUCEoDo8Q"
      },
      "outputs": [],
      "source": [
        "x = np.linspace(0.001, 100, 100000)\n",
        "sinc = np.sin(x) / x"
      ]
    },
    {
      "cell_type": "code",
      "execution_count": null,
      "metadata": {
        "id": "qv0B3xB0EUxt"
      },
      "outputs": [],
      "source": [
        "show_wave_spectrogram_audio(sinc, sr)"
      ]
    },
    {
      "cell_type": "markdown",
      "source": [
        "これを無響音源にたたみ込むと…。"
      ],
      "metadata": {
        "id": "Cr-9xHZkl73X"
      }
    },
    {
      "cell_type": "code",
      "execution_count": null,
      "metadata": {
        "id": "5-zTxFjzEXme"
      },
      "outputs": [],
      "source": [
        "show_wave_spectrogram_audio(calc_response_fft(source, sinc), sr)"
      ]
    }
  ],
  "metadata": {
    "colab": {
      "collapsed_sections": [],
      "name": "音響信号処理（学生用穴抜き）",
      "provenance": [],
      "authorship_tag": "ABX9TyMOUyxqyd4cmWrPtwdPcnnz",
      "include_colab_link": true
    },
    "kernelspec": {
      "display_name": "Python 3",
      "name": "python3"
    },
    "language_info": {
      "name": "python"
    }
  },
  "nbformat": 4,
  "nbformat_minor": 0
}